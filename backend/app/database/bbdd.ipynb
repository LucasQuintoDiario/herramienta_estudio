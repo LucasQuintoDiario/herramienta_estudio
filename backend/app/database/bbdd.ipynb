{
 "cells": [
  {
   "cell_type": "code",
   "execution_count": 1,
   "metadata": {},
   "outputs": [
    {
     "data": {
      "text/plain": [
       "True"
      ]
     },
     "execution_count": 1,
     "metadata": {},
     "output_type": "execute_result"
    }
   ],
   "source": [
    "import pymysql\n",
    "import pandas as pd\n",
    "import os\n",
    "from dotenv import load_dotenv\n",
    "load_dotenv()"
   ]
  },
  {
   "cell_type": "code",
   "execution_count": 24,
   "metadata": {},
   "outputs": [],
   "source": [
    "username = os.getenv(\"BBDD_USERNAME\")\n",
    "password = os.getenv(\"BBDD_PASSWORD\")\n",
    "host = os.getenv(\"BBDD_HOST\")\n",
    "port = os.getenv(\"BBDD_port\")"
   ]
  },
  {
   "cell_type": "code",
   "execution_count": 67,
   "metadata": {},
   "outputs": [
    {
     "data": {
      "text/plain": [
       "0"
      ]
     },
     "execution_count": 67,
     "metadata": {},
     "output_type": "execute_result"
    }
   ],
   "source": [
    "db = pymysql.connect(host = host,\n",
    "                     user = username,\n",
    "                     password = password,\n",
    "                     cursorclass = pymysql.cursors.DictCursor\n",
    ")\n",
    "\n",
    "cursor = db.cursor()\n",
    "use_db = '''USE users_registrados'''\n",
    "cursor.execute(use_db)"
   ]
  },
  {
   "cell_type": "code",
   "execution_count": 68,
   "metadata": {},
   "outputs": [
    {
     "data": {
      "text/plain": [
       "[{'Database': 'consultas'},\n",
       " {'Database': 'information_schema'},\n",
       " {'Database': 'mysql'},\n",
       " {'Database': 'performance_schema'},\n",
       " {'Database': 'sys'},\n",
       " {'Database': 'users_registrados'}]"
      ]
     },
     "execution_count": 68,
     "metadata": {},
     "output_type": "execute_result"
    }
   ],
   "source": [
    "cursor.execute('SHOW DATABASES')\n",
    "cursor.fetchall()"
   ]
  },
  {
   "cell_type": "code",
   "execution_count": 116,
   "metadata": {},
   "outputs": [
    {
     "data": {
      "text/plain": [
       "0"
      ]
     },
     "execution_count": 116,
     "metadata": {},
     "output_type": "execute_result"
    }
   ],
   "source": [
    "use_db = '''USE consultas'''\n",
    "cursor.execute(use_db)"
   ]
  },
  {
   "cell_type": "code",
   "execution_count": 69,
   "metadata": {},
   "outputs": [
    {
     "data": {
      "text/plain": [
       "0"
      ]
     },
     "execution_count": 69,
     "metadata": {},
     "output_type": "execute_result"
    }
   ],
   "source": [
    "use_db = '''USE users_registrados'''\n",
    "cursor.execute(use_db)"
   ]
  },
  {
   "cell_type": "code",
   "execution_count": 70,
   "metadata": {},
   "outputs": [
    {
     "data": {
      "text/plain": [
       "7"
      ]
     },
     "execution_count": 70,
     "metadata": {},
     "output_type": "execute_result"
    }
   ],
   "source": [
    "cursor.execute(\"DESCRIBE Users;\")"
   ]
  },
  {
   "cell_type": "code",
   "execution_count": 43,
   "metadata": {},
   "outputs": [
    {
     "data": {
      "text/plain": [
       "4"
      ]
     },
     "execution_count": 43,
     "metadata": {},
     "output_type": "execute_result"
    }
   ],
   "source": [
    "cursor.execute(\"SHOW PROCESSLIST;\")"
   ]
  },
  {
   "cell_type": "code",
   "execution_count": 44,
   "metadata": {},
   "outputs": [
    {
     "name": "stdout",
     "output_type": "stream",
     "text": [
      "Procesos activos (4 encontrados):\n",
      "{'Id': 5, 'User': 'event_scheduler', 'Host': 'localhost', 'db': None, 'Command': 'Daemon', 'Time': 92196, 'State': 'Waiting on empty queue', 'Info': None}\n",
      "{'Id': 7, 'User': 'rdsadmin', 'Host': 'localhost', 'db': 'mysql', 'Command': 'Sleep', 'Time': 8, 'State': '', 'Info': None}\n",
      "{'Id': 403, 'User': 'admin', 'Host': '81.61.238.244:64114', 'db': None, 'Command': 'Sleep', 'Time': 135, 'State': '', 'Info': None}\n",
      "{'Id': 407, 'User': 'admin', 'Host': '81.61.238.244:64136', 'db': 'users_registrados', 'Command': 'Query', 'Time': 0, 'State': 'init', 'Info': 'SHOW PROCESSLIST'}\n"
     ]
    }
   ],
   "source": [
    "cursor.execute(\"SHOW PROCESSLIST;\")\n",
    "processes = cursor.fetchall()\n",
    "print(f\"Procesos activos ({len(processes)} encontrados):\")\n",
    "for process in processes:\n",
    "    print(process)"
   ]
  },
  {
   "cell_type": "code",
   "execution_count": 57,
   "metadata": {},
   "outputs": [
    {
     "name": "stdout",
     "output_type": "stream",
     "text": [
      "Estructura de la tabla Users:\n",
      "{'Field': 'ID_Vertical', 'Type': 'int', 'Null': 'NO', 'Key': 'PRI', 'Default': None, 'Extra': 'auto_increment'}\n",
      "{'Field': 'vertical', 'Type': 'varchar(100)', 'Null': 'NO', 'Key': '', 'Default': None, 'Extra': ''}\n"
     ]
    }
   ],
   "source": [
    "try:\n",
    "    with db.cursor() as cursor:\n",
    "        cursor.execute(\"DESCRIBE Verticales;\")\n",
    "        result = cursor.fetchall()  # Recupera todas las filas\n",
    "        print(\"Estructura de la tabla Users:\")\n",
    "        for row in result:\n",
    "            print(row)\n",
    "except pymysql.MySQLError as e:\n",
    "    print(f\"Error de base de datos: {str(e)}\")"
   ]
  },
  {
   "cell_type": "code",
   "execution_count": 6,
   "metadata": {},
   "outputs": [
    {
     "name": "stdout",
     "output_type": "stream",
     "text": [
      "Datos insertados correctamente.\n"
     ]
    }
   ],
   "source": [
    "try:\n",
    "    with db.cursor() as cursor:\n",
    "        # Consulta para insertar los datos\n",
    "        insert_query = \"\"\"\n",
    "        INSERT INTO Users (ID_Vertical, Nombre, Apellidos, Fecha_nacimiento, nombre_usuario, password)\n",
    "        VALUES\n",
    "        (1, 'Borja', 'Barber', '1985-02-16', 'bbarber', 'pikachu');\n",
    "        \"\"\"\n",
    "        \n",
    "        # Ejecutar la consulta\n",
    "        cursor.execute(insert_query)\n",
    "        db.commit()  # Confirmar la inserción\n",
    "        print(\"Datos insertados correctamente.\")\n",
    "        \n",
    "except pymysql.MySQLError as err:\n",
    "    print(f\"Error al insertar los datos: {err}\")"
   ]
  },
  {
   "cell_type": "code",
   "execution_count": 56,
   "metadata": {},
   "outputs": [
    {
     "name": "stdout",
     "output_type": "stream",
     "text": [
      "Columnas en la tabla vertical: ['ID_User', 'ID_Vertical', 'Nombre', 'Apellidos', 'Fecha_nacimiento', 'nombre_usuario', 'password']\n"
     ]
    }
   ],
   "source": [
    "try:\n",
    "    with db.cursor() as cursor:\n",
    "        # Consulta para obtener las columnas de la tabla 'Users'\n",
    "        query = \"\"\"\n",
    "        SELECT COLUMN_NAME \n",
    "        FROM INFORMATION_SCHEMA.COLUMNS \n",
    "        WHERE TABLE_SCHEMA = 'users_registrados' AND TABLE_NAME = 'Users';\n",
    "        \"\"\"\n",
    "        \n",
    "        # Ejecutar la consulta\n",
    "        cursor.execute(query)\n",
    "        columns = cursor.fetchall()\n",
    "\n",
    "        # Extraer solo los nombres de columna\n",
    "        column_names = [col[\"COLUMN_NAME\"] for col in columns]\n",
    "        print(\"Columnas en la tabla vertical:\", column_names)\n",
    "\n",
    "except pymysql.MySQLError as err:\n",
    "    print(f\"Error al consultar las columnas: {err}\")"
   ]
  },
  {
   "cell_type": "code",
   "execution_count": 73,
   "metadata": {},
   "outputs": [
    {
     "data": {
      "text/plain": [
       "[{'ID_Test': 1,\n",
       "  'ID_User': 5,\n",
       "  'Preguntas': '\"1. **Pregunta 1: \\\\u00bfQu\\\\u00e9 son las listas en Python y c\\\\u00f3mo se pueden manipular? Proporcione ejemplos de operaciones comunes que se pueden realizar con listas, como la adici\\\\u00f3n, eliminaci\\\\u00f3n y b\\\\u00fasqueda de elementos.**  \\\\n   *Respuesta esperada: El estudiante debe explicar que las listas son colecciones ordenadas y mutables que pueden contener elementos de diferentes tipos. Se espera que proporcione ejemplos de c\\\\u00f3mo usar m\\\\u00e9todos como `append()`, `remove()`, `pop()` y `index()`, adem\\\\u00e1s de realizar operativa de suma y comprobaciones de pertenencia utilizando `in`.*\\\\n\\\\n2. **Pregunta 2: Explique la diferencia entre una funci\\\\u00f3n y un m\\\\u00e9todo en Python. Ilustre su respuesta con ejemplos de c\\\\u00f3digo que muestren c\\\\u00f3mo se definen y utilizan ambos.**  \\\\n   *Respuesta esperada: El estudiante debe explicar que una funci\\\\u00f3n es un bloque de c\\\\u00f3digo independiente que puede llamarse desde cualquier parte del programa, mientras que un m\\\\u00e9todo es una funci\\\\u00f3n que est\\\\u00e1 asociada a un objeto. Se espera que proporcione ejemplos, donde se define una funci\\\\u00f3n con `def` y un m\\\\u00e9todo dentro de una clase, demostrando su uso en un objeto de la clase.*\\\\n\\\\n3. **Pregunta 3: \\\\u00bfQu\\\\u00e9 son las excepciones en Python y c\\\\u00f3mo se manejan? Describa los bloques `try`, `except`, `finally` y ofrezca un ejemplo que demuestre su funcionamiento.**  \\\\n   *Respuesta esperada: El estudiante debe explicar que las excepciones son errores que ocurren durante la ejecuci\\\\u00f3n de un programa y que se pueden manejar para evitar que el programa se detenga abruptamente. Se espera que el estudiante proporcione un ejemplo pr\\\\u00e1ctico que incluya un bloque `try` que genere una excepci\\\\u00f3n y un bloque `except` que la maneje, as\\\\u00ed como la inclusi\\\\u00f3n de `finally` para la ejecuci\\\\u00f3n de c\\\\u00f3digo de limpieza.*\"',\n",
       "  'Respuestas': '[]',\n",
       "  'Feedback': 'Pendiente de evaluación',\n",
       "  'created_at': datetime.datetime(2025, 3, 8, 17, 2, 19)},\n",
       " {'ID_Test': 2,\n",
       "  'ID_User': 5,\n",
       "  'Preguntas': '[\"1. **Pregunta 1:** Explique el concepto de \\\\\"bagging\\\\\" (Bootstrap Aggregating) en el contexto de los modelos de \\\\u00e1rboles de decisi\\\\u00f3n y c\\\\u00f3mo se implementa en RandomForest. Discuta sus beneficios en comparaci\\\\u00f3n con un solo \\\\u00e1rbol de decisi\\\\u00f3n, incluyendo ejemplos de c\\\\u00f3mo mejora la precisi\\\\u00f3n del modelo.\", \"\", \"2. **Pregunta 2:** Analice el papel que juega la selecci\\\\u00f3n aleatoria de caracter\\\\u00edsticas en la creaci\\\\u00f3n de los \\\\u00e1rboles dentro de un modelo RandomForest. \\\\u00bfC\\\\u00f3mo afecta esta t\\\\u00e9cnica a la varianza y sesgo del modelo y en qu\\\\u00e9 situaciones podr\\\\u00eda ser ventajosa?\", \"\", \"3. **Pregunta 3:** Discuta la importancia de la validaci\\\\u00f3n cruzada en la evaluaci\\\\u00f3n del rendimiento de un modelo RandomForest. Proporcione un procedimiento detallado sobre c\\\\u00f3mo implementar la validaci\\\\u00f3n cruzada, as\\\\u00ed como los m\\\\u00e9todos para ajustar hiperpar\\\\u00e1metros y evitar el sobreajuste en el contexto de RandomForest.\"]',\n",
       "  'Respuestas': '[\"El concepto de \\'bagging\\' (Bootstrap Aggregating) es una t\\\\u00e9cnica de ensamblado usada en modelos de \\\\u00e1rboles de decisi\\\\u00f3n para mejorar la estabilidad y precisi\\\\u00f3n del modelo. Consiste en entrenar m\\\\u00faltiples \\\\u00e1rboles de decisi\\\\u00f3n sobre subconjuntos diferentes del conjunto de datos original, creados mediante muestreo con reemplazo (bootstrap), y luego combinar sus predicciones, generalmente promediando (para regresi\\\\u00f3n) o votando (para clasificaci\\\\u00f3n). En RandomForest, se implementa generando muchos \\\\u00e1rboles, cada uno entrenado en una muestra bootstrap del dataset, y combinando sus resultados. Comparado con un solo \\\\u00e1rbol de decisi\\\\u00f3n, que puede ser sensible a ruido y sobreajustarse, bagging reduce la varianza al promediar predicciones diversas. Por ejemplo, si un \\\\u00e1rbol predice mal un punto debido a un subconjunto ruidoso, otros \\\\u00e1rboles pueden corregirlo, mejorando la precisi\\\\u00f3n general. En un caso pr\\\\u00e1ctico, como predecir precios de casas, un solo \\\\u00e1rbol podr\\\\u00eda enfocarse demasiado en outliers, mientras que RandomForest, con bagging, ofrece una predicci\\\\u00f3n m\\\\u00e1s robusta y precisa.\", \"La selecci\\\\u00f3n aleatoria de caracter\\\\u00edsticas en RandomForest ocurre al construir cada \\\\u00e1rbol, donde en cada nodo se considera solo un subconjunto aleatorio de caracter\\\\u00edsticas (controlado por el par\\\\u00e1metro `max_features`) en lugar de todas. Esto introduce diversidad entre los \\\\u00e1rboles, ya que cada uno se basa en diferentes combinaciones de variables. Respecto a varianza y sesgo, esta t\\\\u00e9cnica reduce la varianza al evitar que los \\\\u00e1rboles sean demasiado similares (decorrelacion\\\\u00e1ndolos), aunque puede aumentar ligeramente el sesgo porque cada \\\\u00e1rbol individual usa menos informaci\\\\u00f3n. Sin embargo, el ensamblado compensa este sesgo, manteniendo un modelo robusto. Es ventajosa en datasets con muchas caracter\\\\u00edsticas correlacionadas o irrelevantes, como en an\\\\u00e1lisis gen\\\\u00f3micos, donde seleccionar subconjuntos aleatorios ayuda a capturar patrones m\\\\u00e1s generales y evita depender de unas pocas variables dominantes.\", \"La validaci\\\\u00f3n cruzada es crucial para evaluar el rendimiento de un modelo RandomForest porque proporciona una estimaci\\\\u00f3n m\\\\u00e1s confiable de c\\\\u00f3mo generaliza a datos no vistos, evitando depender de una sola divisi\\\\u00f3n entrenamiento-prueba. Un procedimiento t\\\\u00edpico es la validaci\\\\u00f3n cruzada k-fold: 1) Dividir el dataset en k partes (por ejemplo, k=5); 2) Entrenar el modelo en k-1 partes y probarlo en la parte restante; 3) Repetir k veces, usando cada parte como prueba una vez; 4) Promediar las m\\\\u00e9tricas (como precisi\\\\u00f3n o F1-score) para obtener el rendimiento final. Para implementar esto en RandomForest con Python, usar\\\\u00edamos `cross_val_score` de scikit-learn: `from sklearn.ensemble import RandomForestClassifier; from sklearn.model_selection import cross_val_score; model = RandomForestClassifier(); scores = cross_val_score(model, X, y, cv=5)`. Para ajustar hiperpar\\\\u00e1metros como `n_estimators` o `max_depth` y evitar sobreajuste, se puede usar `GridSearchCV`, probando combinaciones (por ejemplo, `n_estimators=[50, 100], max_depth=[10, 20]`) y seleccionando las que maximicen el score de validaci\\\\u00f3n cruzada, asegurando un modelo equilibrado.\"]',\n",
       "  'Feedback': '### Informe de Evaluación Detallado\\n\\n**Pregunta 1: Concepto de \"bagging\" (Bootstrap Aggregating)**\\n\\nLa respuesta brindada es completa y correcta. Se explica adecuadamente el concepto de \"bagging\" como una técnica de ensamblado que mejora la estabilidad y precisión de los modelos de árboles de decisión mediante el uso de muestreo con reemplazo. La descripción del proceso, en el cual múltiples árboles son entrenados a partir de subconjuntos de datos diversos, es precisa y se especifica cómo en RandomForest se generan muchos árboles con este enfoque.\\n\\n**Fortalezas:**\\n- Claridad en la explicación de \"bagging\" y su implementación en RandomForest.\\n- Ejemplo práctico relacionado a la predicción de precios de casas que ilustra cómo \"bagging\" mejora la precisión y robustez frente a Outliers.\\n- El contraste con un solo árbol de decisión se discute correctamente, destacando cómo \"bagging\" reduce la varianza.\\n\\n**Áreas de Mejora:**\\n- Sería beneficioso incluir una breve mención de cómo se promediarían o votarían las predicciones de los árboles para proporcionar una vista más completa sobre la combinación de los resultados.\\n\\n---\\n\\n**Pregunta 2: Selección Aleatoria de Características en RandomForest**\\n\\nLa respuesta es sólida y proporciona una buena profundidad en la explicación del mecanismo de selección aleatoria de características. Se menciona el parámetro `max_features`, lo que demuestra un entendimiento práctico de cómo funciona RandomForest. Además, se discute el impacto de esta técnica en la varianza y el sesgo del modelo.\\n\\n**Fortalezas:**\\n- Explicación clara sobre cómo la selección aleatoria introduce diversidad y evita que los árboles se vuelvan demasiado similares.\\n- Correcta identificación de la reducción de varianza y el leve aumento del sesgo, así como el balance que proporciona el ensamblado.\\n- Aplicación a un contexto práctico, como el análisis genómico, donde la técnica es particularmente útil.\\n\\n**Áreas de Mejora:**\\n- La respuesta podría beneficiarse de ejemplos adicionales o estadísticas que respalden las afirmaciones sobre la reducción de varianza y sesgo, para fortalecer la argumentación.\\n\\n---\\n\\n**Pregunta 3: Validación Cruzada y Ajuste de Hiperparámetros**\\n\\nEsta respuesta es muy completa y describe eficazmente la importancia de la validación cruzada en el contexto de RandomForest. Se detalla el procedimiento k-fold con pasos claros, lo que es útil para la comprensión. Además, se proporciona un ejemplo práctico de implementación en Python, así como una mención a `GridSearchCV` para el ajuste de hiperparámetros.\\n\\n**Fortalezas:**\\n- Descripción detallada del proceso de validación cruzada, ofreciendo claridad sobre cómo se evalúa el modelo.\\n- Incluye un código de ejemplo práctico que реrmite a los estudiantes replicar las técnicas descritas.\\n- Sugerencia de métodos para ajustar hiperparámetros y evitar sobreajuste es relevante y útil para el aprendizaje.\\n\\n**Áreas de Mejora:**\\n- Se podría añadir más detalles sobre qué métricas específicas se deben considerar al evaluar el rendimiento del modelo durante la validación cruzada.\\n- Incluir un breve análisis de los potenciales problemas que podrían surgir al implementar la validación cruzada, como el costo computacional asociado.\\n\\n---\\n\\n**Conclusión General:**\\n\\nEn general, las respuestas demuestran una sólida comprensión de los conceptos y técnicas relacionadas con RandomForest, \"bagging\", selección aleatoria de características y validación cruzada. La claridad y la estructura de las explicaciones son adecuadas y hay un buen uso de ejemplos prácticos, aunque hay áreas donde se puede enriquecer el contenido con datos adicionales o aclaraciones. Se recomienda a los estudiantes considerar estas áreas de mejora para potenciar aún más su comprensión y habilidad en Data Science.',\n",
       "  'created_at': datetime.datetime(2025, 3, 8, 17, 27, 58)},\n",
       " {'ID_Test': 3,\n",
       "  'ID_User': 5,\n",
       "  'Preguntas': '[\"1. **Pregunta 1: Definici\\\\u00f3n y Concepto**\", \"   - \\\\u00bfQu\\\\u00e9 es la regresi\\\\u00f3n lineal y cu\\\\u00e1les son sus principales supuestos? Discuta la importancia de cada uno de los supuestos en la validez de un modelo de regresi\\\\u00f3n lineal.\", \"\", \"2. **Pregunta 2: Interpretaci\\\\u00f3n de Resultados**\", \"   - En un an\\\\u00e1lisis de regresi\\\\u00f3n lineal, se obtuvo la siguiente ecuaci\\\\u00f3n de regresi\\\\u00f3n: \\\\\\\\(Y = 3 + 2X\\\\\\\\). Explica el significado de los coeficientes en esta ecuaci\\\\u00f3n, haciendo \\\\u00e9nfasis en la interpretaci\\\\u00f3n del intercepto y la pendiente. Adem\\\\u00e1s, discuta c\\\\u00f3mo estos coeficientes pueden influir en la predicci\\\\u00f3n de la variable dependiente \\\\\\\\(Y\\\\\\\\).\", \"\", \"3. **Pregunta 3: Evaluaci\\\\u00f3n del Modelo**\", \"   - \\\\u00bfCu\\\\u00e1les son las m\\\\u00e9tricas m\\\\u00e1s comunes para evaluar la calidad de un modelo de regresi\\\\u00f3n lineal y qu\\\\u00e9 informaci\\\\u00f3n proporciona cada una de ellas? Adem\\\\u00e1s, menciona c\\\\u00f3mo se puede utilizar el coeficiente de determinaci\\\\u00f3n \\\\\\\\(R^2\\\\\\\\) para interpretar la cantidad de variaci\\\\u00f3n de la variable dependiente explicada por el modelo.\"]',\n",
       "  'Respuestas': '[\"La regresi\\\\u00f3n lineal es un m\\\\u00e9todo estad\\\\u00edstico que modela la relaci\\\\u00f3n entre una variable dependiente (Y) y una o m\\\\u00e1s variables independientes (X) asumiendo que esta relaci\\\\u00f3n es lineal, es decir, se puede representar como una l\\\\u00ednea recta. Su ecuaci\\\\u00f3n general es Y = \\\\u03b2\\\\u2080 + \\\\u03b2\\\\u2081X + \\\\u03b5, donde \\\\u03b2\\\\u2080 es el intercepto, \\\\u03b2\\\\u2081 es la pendiente y \\\\u03b5 es el error. Los principales supuestos de la regresi\\\\u00f3n lineal son: 1) **Linealidad**: la relaci\\\\u00f3n entre X e Y debe ser lineal, lo que asegura que el modelo capture correctamente la tendencia; si no se cumple, las predicciones ser\\\\u00e1n inexactas. 2) **Independencia de los errores**: los residuos (diferencias entre valores observados y predichos) no deben estar correlacionados, porque si lo est\\\\u00e1n (como en series temporales), el modelo subestima la varianza. 3) **Homoscedasticidad**: la varianza de los errores debe ser constante; si hay heterocedasticidad, las estimaciones de los coeficientes son menos confiables. 4) **Normalidad de los errores**: los residuos deben seguir una distribuci\\\\u00f3n normal (importante para pruebas de hip\\\\u00f3tesis); si no, los intervalos de confianza pueden ser inv\\\\u00e1lidos. Estos supuestos son fundamentales para que las inferencias estad\\\\u00edsticas (como los valores p) y las predicciones del modelo sean v\\\\u00e1lidas.\", \"En la ecuaci\\\\u00f3n de regresi\\\\u00f3n Y = 3 + 2X, los coeficientes tienen un significado espec\\\\u00edfico. El intercepto (\\\\u03b2\\\\u2080 = 3) representa el valor esperado de Y cuando X es 0; es decir, si X no tiene efecto o no est\\\\u00e1 presente, Y ser\\\\u00eda 3. La pendiente (\\\\u03b2\\\\u2081 = 2) indica el cambio en Y por cada unidad de aumento en X; en este caso, por cada incremento de 1 en X, Y aumenta en 2 unidades. Por ejemplo, si X pasa de 1 a 2, Y pasa de 5 (3 + 2*1) a 7 (3 + 2*2), mostrando c\\\\u00f3mo la pendiente define la tasa de cambio. Estos coeficientes influyen directamente en la predicci\\\\u00f3n: un intercepto mayor eleva todas las predicciones, mientras que una pendiente mayor amplifica el impacto de X. Si X representa horas de estudio y Y el puntaje en un examen, un estudiante que estudia 0 horas tendr\\\\u00eda un puntaje base de 3, y cada hora adicional a\\\\u00f1adir\\\\u00eda 2 puntos, permitiendo predecir puntajes seg\\\\u00fan el esfuerzo.\", \"Las m\\\\u00e9tricas m\\\\u00e1s comunes para evaluar un modelo de regresi\\\\u00f3n lineal son: 1) **Error Cuadr\\\\u00e1tico Medio (MSE)**: mide el promedio de los errores al cuadrado entre valores predichos y reales; un MSE bajo indica mayor precisi\\\\u00f3n, pero es sensible a outliers. 2) **Error Absoluto Medio (MAE)**: calcula el promedio de los errores absolutos, siendo menos sensible a valores extremos y m\\\\u00e1s f\\\\u00e1cil de interpretar como error t\\\\u00edpico. 3) **Ra\\\\u00edz del Error Cuadr\\\\u00e1tico Medio (RMSE)**: es la ra\\\\u00edz cuadrada del MSE, en la misma unidad que Y, facilitando la interpretaci\\\\u00f3n del error t\\\\u00edpico. 4) **Coeficiente de determinaci\\\\u00f3n (R\\\\u00b2)**: mide la proporci\\\\u00f3n de la varianza de Y explicada por el modelo, entre 0 y 1; un R\\\\u00b2 de 0.8 significa que el 80% de la variaci\\\\u00f3n en Y se explica por X, mientras que el resto es ruido o variables no incluidas. Por ejemplo, en un modelo de ventas (Y) basado en publicidad (X), un R\\\\u00b2 alto indica que la publicidad explica bien las ventas, ayudando a evaluar si el modelo captura las relaciones clave o necesita m\\\\u00e1s variables.\"]',\n",
       "  'Feedback': '**Informe de Evaluación Detallado**\\n\\n**Pregunta 1: Definición y Concepto**  \\nLa respuesta proporcionada es clara y completa. Se define adecuadamente la regresión lineal y se explican sus supuestos fundamentales. Cada supuesto ha sido explicado con suficiente detalle:\\n\\n1. **Linealidad**: Se destaca la importancia de capturar correctamente la relación entre variables, lo cual es vital para garantizar la precisión del modelo.\\n2. **Independencia de los errores**: Se menciona la relevancia de los residuos no correlacionados, particularmente en series temporales, lo que es crucial para evitar subestimaciones de la varianza.\\n3. **Homoscedasticidad**: Se aborda la constancia de la varianza de errores, subrayando su efecto en la confiabilidad de las estimaciones de los coeficientes.\\n4. **Normalidad de los errores**: Se enfatiza en la necesidad de que los residuos sigan una distribución normal para la validez de pruebas de hipótesis, lo que es un aspecto importante en análisis estadísticos.\\n\\nFortalezas:  \\n- La respuesta cubre todos los puntos clave de manera exhaustiva.\\n- Proporciona ejemplos de cómo los supuestos afectados pueden influir en las inferencias del modelo.\\n\\nÁreas de mejora:  \\n- Se podría incluir una breve descripción de las consecuencias específicas de violar cada supuesto para ofrecer un entendimiento más fuerte de su importancia.\\n\\n**Pregunta 2: Interpretación de Resultados**  \\nLa interpretación de los coeficientes en la ecuación de regresión \\\\(Y = 3 + 2X\\\\) está muy bien expuesta. Se explica el significado del intercepto y la pendiente con claridad:\\n\\n- **Intercepto (β₀ = 3)**: Se explica adecuadamente que representa el valor de \\\\(Y\\\\) cuando \\\\(X\\\\) es 0.\\n- **Pendiente (β₁ = 2)**: Se detalla cómo cada incremento en \\\\(X\\\\) influye en \\\\(Y\\\\), ilustrando la relación de forma práctica. El ejemplo relacionado con horas de estudio y puntajes en un examen es pertinente y ayuda a visualizar la aplicación.\\n\\nFortalezas:  \\n- La respuesta no solo identifica cada componente, sino que va más allá al explicar su influencia en la predicción.\\n- Se utilizan ejemplos concretos que facilitan la comprensión.\\n\\nÁreas de mejora:  \\n- Podría abordarse cómo la variación en \\\\(X\\\\) puede influir en la estimación de \\\\(Y\\\\) en contextos diferentes, para profundizar aún más en la aplicación práctica.\\n\\n**Pregunta 3: Evaluación del Modelo**  \\nLa descripción de las métricas para evaluar un modelo de regresión lineal es detallada y precisa. Se explican las métricas clave:\\n\\n1. **Error Cuadrático Medio (MSE)**: Se destaca la importancia del MSE y su sensibilidad a los outliers.\\n2. **Error Absoluto Medio (MAE)**: Su menor sensibilidad a outliers se menciona correctamente, al igual que su interpretación intuitiva.\\n3. **Raíz del Error Cuadrático Medio (RMSE)**: Se explica cómo la RMSE facilita la interpretación al ser comparable directamente con \\\\(Y\\\\).\\n4. **Coeficiente de determinación (R²)**: El papel de \\\\(R²\\\\) se ha explicado bien, incluido su rango y cómo se interpreta en términos de la varianza explicada.\\n\\nFortalezas:  \\n- La respuesta es completa y adecuada en funciones y beneficios de cada métrica.\\n- Los ejemplos proporcionados son pertinentes y clarifican la relación entre publicidad y ventas, ejemplificando el uso de \\\\(R²\\\\).\\n\\nÁreas de mejora:  \\n- Se podría incluir una mención sobre limitaciones de cada métrica o situaciones donde no son suficientemente robustas para tomar decisiones.\\n\\n---\\n\\nEn resumen, las respuestas son en su mayoría completas y bien estructuradas. Proveen una buena comprensión de los conceptos fundamentales en regressión lineal, desde la definición y supuestos, hasta la interpretación de los resultados y las métricas de evaluación. El enfoque es sólido, pero siempre hay espacio para el detalle adicional y ejemplos más variados.',\n",
       "  'created_at': datetime.datetime(2025, 3, 8, 18, 0, 25)}]"
      ]
     },
     "execution_count": 73,
     "metadata": {},
     "output_type": "execute_result"
    }
   ],
   "source": [
    "cursor.execute('''SELECT * FROM Test''')\n",
    "cursor.fetchall()"
   ]
  },
  {
   "cell_type": "code",
   "execution_count": 63,
   "metadata": {},
   "outputs": [],
   "source": [
    "query = \"\"\"\n",
    "    INSERT INTO Users (ID_Vertical, Nombre, Apellidos, Fecha_nacimiento, nombre_usuario, password)\n",
    "    VALUES (%s, %s, %s, %s, %s, %s)\n",
    "    \"\"\"\n",
    "\n",
    "    # Lista de valores en el orden de las columnas\n",
    "valores = [\n",
    "    (1, \"Juan\", \"Zubiaga\", \"1998-05-13\", \"jzubiaga\", \"interstellar\"),\n",
    "    (1, \"Daniel\", \"Masana\", \"1985-01-28\", \"dmasana\", \"cancer\"),\n",
    "    (1, \"Daniel\", \"Garrido\", \"1998-01-13\", \"dgarrido\", \"fresadora\"),\n",
    "    (1, \"Yanelis\", \"Gonzalez\", \"1984-03-12\", \"ygonzalez\", \"helado\"),\n",
    "    (1, \"Lucas\", \"Herranz\", \"1997-05-23\", \"lherranz\", \"quintodiario\"),\n",
    "    (1, \"Miguel\", \"Nievas\", \"1993-12-12\", \"mnievas\", \"datascience\"),\n",
    "    (1, \"Diego\", \"Diaz\", \"1980-04-18\", \"ddiaz\", \"matrix\"),\n",
    "    (1, \"Diego\", \"Nuñez\", \"1994-11-17\", \"diegodng\", \"soycelta\"),\n",
    "    (1, \"Veronica\", \"Orte\", \"1982-01-09\", \"vorte\", \"Buenosdias\"),\n",
    "    (1, 'Borja', 'Barber', '1985-02-16', 'bbarber', 'pikachu')\n",
    "]"
   ]
  },
  {
   "cell_type": "code",
   "execution_count": 64,
   "metadata": {},
   "outputs": [
    {
     "data": {
      "text/plain": [
       "10"
      ]
     },
     "execution_count": 64,
     "metadata": {},
     "output_type": "execute_result"
    }
   ],
   "source": [
    "cursor.executemany(query, valores)"
   ]
  },
  {
   "cell_type": "code",
   "execution_count": 30,
   "metadata": {},
   "outputs": [
    {
     "data": {
      "text/plain": [
       "6"
      ]
     },
     "execution_count": 30,
     "metadata": {},
     "output_type": "execute_result"
    }
   ],
   "source": [
    "cursor.execute(\"\"\"SHOW TABLES\"\"\")"
   ]
  },
  {
   "cell_type": "code",
   "execution_count": 48,
   "metadata": {},
   "outputs": [],
   "source": [
    "query = \"INSERT INTO Verticales (vertical) VALUES (%s)\"\n",
    "valores = [(\"Data Science\",), (\"Full Stack\",), (\"Ciberseguridad\",)]"
   ]
  },
  {
   "cell_type": "code",
   "execution_count": 54,
   "metadata": {},
   "outputs": [
    {
     "data": {
      "text/plain": [
       "3"
      ]
     },
     "execution_count": 54,
     "metadata": {},
     "output_type": "execute_result"
    }
   ],
   "source": [
    "cursor.executemany(query, valores)"
   ]
  },
  {
   "cell_type": "code",
   "execution_count": 65,
   "metadata": {},
   "outputs": [],
   "source": [
    "db.commit()"
   ]
  },
  {
   "cell_type": "code",
   "execution_count": null,
   "metadata": {},
   "outputs": [],
   "source": []
  },
  {
   "cell_type": "code",
   "execution_count": null,
   "metadata": {},
   "outputs": [],
   "source": []
  },
  {
   "cell_type": "code",
   "execution_count": null,
   "metadata": {},
   "outputs": [],
   "source": []
  },
  {
   "cell_type": "code",
   "execution_count": null,
   "metadata": {},
   "outputs": [],
   "source": []
  },
  {
   "cell_type": "code",
   "execution_count": null,
   "metadata": {},
   "outputs": [],
   "source": []
  },
  {
   "cell_type": "code",
   "execution_count": null,
   "metadata": {},
   "outputs": [],
   "source": []
  },
  {
   "cell_type": "code",
   "execution_count": 117,
   "metadata": {},
   "outputs": [],
   "source": [
    "db.commit()"
   ]
  },
  {
   "cell_type": "code",
   "execution_count": 25,
   "metadata": {},
   "outputs": [],
   "source": [
    "cursor.close()"
   ]
  },
  {
   "cell_type": "code",
   "execution_count": 24,
   "metadata": {},
   "outputs": [
    {
     "ename": "Error",
     "evalue": "Already closed",
     "output_type": "error",
     "traceback": [
      "\u001b[0;31m---------------------------------------------------------------------------\u001b[0m",
      "\u001b[0;31mError\u001b[0m                                     Traceback (most recent call last)",
      "Cell \u001b[0;32mIn[24], line 1\u001b[0m\n\u001b[0;32m----> 1\u001b[0m \u001b[43mdb\u001b[49m\u001b[38;5;241;43m.\u001b[39;49m\u001b[43mclose\u001b[49m\u001b[43m(\u001b[49m\u001b[43m)\u001b[49m\n",
      "File \u001b[0;32m~/tf_env/lib/python3.12/site-packages/pymysql/connections.py:414\u001b[0m, in \u001b[0;36mConnection.close\u001b[0;34m(self)\u001b[0m\n\u001b[1;32m    405\u001b[0m \u001b[38;5;250m\u001b[39m\u001b[38;5;124;03m\"\"\"\u001b[39;00m\n\u001b[1;32m    406\u001b[0m \u001b[38;5;124;03mSend the quit message and close the socket.\u001b[39;00m\n\u001b[1;32m    407\u001b[0m \n\u001b[0;32m   (...)\u001b[0m\n\u001b[1;32m    411\u001b[0m \u001b[38;5;124;03m:raise Error: If the connection is already closed.\u001b[39;00m\n\u001b[1;32m    412\u001b[0m \u001b[38;5;124;03m\"\"\"\u001b[39;00m\n\u001b[1;32m    413\u001b[0m \u001b[38;5;28;01mif\u001b[39;00m \u001b[38;5;28mself\u001b[39m\u001b[38;5;241m.\u001b[39m_closed:\n\u001b[0;32m--> 414\u001b[0m     \u001b[38;5;28;01mraise\u001b[39;00m err\u001b[38;5;241m.\u001b[39mError(\u001b[38;5;124m\"\u001b[39m\u001b[38;5;124mAlready closed\u001b[39m\u001b[38;5;124m\"\u001b[39m)\n\u001b[1;32m    415\u001b[0m \u001b[38;5;28mself\u001b[39m\u001b[38;5;241m.\u001b[39m_closed \u001b[38;5;241m=\u001b[39m \u001b[38;5;28;01mTrue\u001b[39;00m\n\u001b[1;32m    416\u001b[0m \u001b[38;5;28;01mif\u001b[39;00m \u001b[38;5;28mself\u001b[39m\u001b[38;5;241m.\u001b[39m_sock \u001b[38;5;129;01mis\u001b[39;00m \u001b[38;5;28;01mNone\u001b[39;00m:\n",
      "\u001b[0;31mError\u001b[0m: Already closed"
     ]
    }
   ],
   "source": [
    "db.close()"
   ]
  }
 ],
 "metadata": {
  "kernelspec": {
   "display_name": "tf_env",
   "language": "python",
   "name": "python3"
  },
  "language_info": {
   "codemirror_mode": {
    "name": "ipython",
    "version": 3
   },
   "file_extension": ".py",
   "mimetype": "text/x-python",
   "name": "python",
   "nbconvert_exporter": "python",
   "pygments_lexer": "ipython3",
   "version": "3.12.8"
  }
 },
 "nbformat": 4,
 "nbformat_minor": 2
}
