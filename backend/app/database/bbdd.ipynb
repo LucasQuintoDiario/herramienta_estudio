{
 "cells": [
  {
   "cell_type": "code",
   "execution_count": 1,
   "metadata": {},
   "outputs": [
    {
     "data": {
      "text/plain": [
       "True"
      ]
     },
     "execution_count": 1,
     "metadata": {},
     "output_type": "execute_result"
    }
   ],
   "source": [
    "import pymysql\n",
    "import pandas as pd\n",
    "import os\n",
    "from dotenv import load_dotenv\n",
    "load_dotenv()"
   ]
  },
  {
   "cell_type": "code",
   "execution_count": 2,
   "metadata": {},
   "outputs": [],
   "source": [
    "username = os.getenv(\"BBDD_USERNAME\")\n",
    "password = os.getenv(\"BBDD_PASSWORD\")\n",
    "host = os.getenv(\"BBDD_HOST\")\n",
    "port = os.getenv(\"BBDD_port\")"
   ]
  },
  {
   "cell_type": "code",
   "execution_count": 3,
   "metadata": {},
   "outputs": [
    {
     "data": {
      "text/plain": [
       "0"
      ]
     },
     "execution_count": 3,
     "metadata": {},
     "output_type": "execute_result"
    }
   ],
   "source": [
    "db = pymysql.connect(host = host,\n",
    "                     user = username,\n",
    "                     password = password,\n",
    "                     cursorclass = pymysql.cursors.DictCursor\n",
    ")\n",
    "\n",
    "cursor = db.cursor()\n",
    "use_db = '''USE consultas'''\n",
    "cursor.execute(use_db)"
   ]
  },
  {
   "cell_type": "code",
   "execution_count": 119,
   "metadata": {},
   "outputs": [
    {
     "data": {
      "text/plain": [
       "[{'Database': 'consultas'},\n",
       " {'Database': 'information_schema'},\n",
       " {'Database': 'mysql'},\n",
       " {'Database': 'performance_schema'},\n",
       " {'Database': 'sys'},\n",
       " {'Database': 'users_registrados'}]"
      ]
     },
     "execution_count": 119,
     "metadata": {},
     "output_type": "execute_result"
    }
   ],
   "source": [
    "cursor.execute('SHOW DATABASES')\n",
    "cursor.fetchall()"
   ]
  },
  {
   "cell_type": "code",
   "execution_count": 120,
   "metadata": {},
   "outputs": [
    {
     "data": {
      "text/plain": [
       "0"
      ]
     },
     "execution_count": 120,
     "metadata": {},
     "output_type": "execute_result"
    }
   ],
   "source": [
    "use_db = '''USE consultas'''\n",
    "cursor.execute(use_db)"
   ]
  },
  {
   "cell_type": "code",
   "execution_count": 78,
   "metadata": {},
   "outputs": [
    {
     "data": {
      "text/plain": [
       "0"
      ]
     },
     "execution_count": 78,
     "metadata": {},
     "output_type": "execute_result"
    }
   ],
   "source": [
    "use_db = '''USE users_registrados'''\n",
    "cursor.execute(use_db)"
   ]
  },
  {
   "cell_type": "code",
   "execution_count": 79,
   "metadata": {},
   "outputs": [
    {
     "data": {
      "text/plain": [
       "7"
      ]
     },
     "execution_count": 79,
     "metadata": {},
     "output_type": "execute_result"
    }
   ],
   "source": [
    "cursor.execute(\"DESCRIBE Users;\")"
   ]
  },
  {
   "cell_type": "code",
   "execution_count": null,
   "metadata": {},
   "outputs": [],
   "source": []
  },
  {
   "cell_type": "code",
   "execution_count": 43,
   "metadata": {},
   "outputs": [
    {
     "data": {
      "text/plain": [
       "4"
      ]
     },
     "execution_count": 43,
     "metadata": {},
     "output_type": "execute_result"
    }
   ],
   "source": [
    "cursor.execute(\"SHOW PROCESSLIST;\")"
   ]
  },
  {
   "cell_type": "code",
   "execution_count": 44,
   "metadata": {},
   "outputs": [
    {
     "name": "stdout",
     "output_type": "stream",
     "text": [
      "Procesos activos (4 encontrados):\n",
      "{'Id': 5, 'User': 'event_scheduler', 'Host': 'localhost', 'db': None, 'Command': 'Daemon', 'Time': 92196, 'State': 'Waiting on empty queue', 'Info': None}\n",
      "{'Id': 7, 'User': 'rdsadmin', 'Host': 'localhost', 'db': 'mysql', 'Command': 'Sleep', 'Time': 8, 'State': '', 'Info': None}\n",
      "{'Id': 403, 'User': 'admin', 'Host': '81.61.238.244:64114', 'db': None, 'Command': 'Sleep', 'Time': 135, 'State': '', 'Info': None}\n",
      "{'Id': 407, 'User': 'admin', 'Host': '81.61.238.244:64136', 'db': 'users_registrados', 'Command': 'Query', 'Time': 0, 'State': 'init', 'Info': 'SHOW PROCESSLIST'}\n"
     ]
    }
   ],
   "source": [
    "cursor.execute(\"SHOW PROCESSLIST;\")\n",
    "processes = cursor.fetchall()\n",
    "print(f\"Procesos activos ({len(processes)} encontrados):\")\n",
    "for process in processes:\n",
    "    print(process)"
   ]
  },
  {
   "cell_type": "code",
   "execution_count": 105,
   "metadata": {},
   "outputs": [
    {
     "name": "stdout",
     "output_type": "stream",
     "text": [
      "Estructura de la tabla Users:\n",
      "{'Field': 'id', 'Type': 'int', 'Null': 'NO', 'Key': 'PRI', 'Default': None, 'Extra': 'auto_increment'}\n",
      "{'Field': 'pregunta', 'Type': 'text', 'Null': 'YES', 'Key': '', 'Default': None, 'Extra': ''}\n",
      "{'Field': 'respuesta', 'Type': 'text', 'Null': 'YES', 'Key': '', 'Default': None, 'Extra': ''}\n",
      "{'Field': 'created_at', 'Type': 'timestamp', 'Null': 'YES', 'Key': '', 'Default': 'CURRENT_TIMESTAMP', 'Extra': 'DEFAULT_GENERATED'}\n"
     ]
    }
   ],
   "source": [
    "try:\n",
    "    with db.cursor() as cursor:\n",
    "        cursor.execute(\"DESCRIBE consultas;\")\n",
    "        result = cursor.fetchall()  # Recupera todas las filas\n",
    "        print(\"Estructura de la tabla Users:\")\n",
    "        for row in result:\n",
    "            print(row)\n",
    "except pymysql.MySQLError as e:\n",
    "    print(f\"Error de base de datos: {str(e)}\")"
   ]
  },
  {
   "cell_type": "code",
   "execution_count": 6,
   "metadata": {},
   "outputs": [
    {
     "name": "stdout",
     "output_type": "stream",
     "text": [
      "Datos insertados correctamente.\n"
     ]
    }
   ],
   "source": [
    "try:\n",
    "    with db.cursor() as cursor:\n",
    "        # Consulta para insertar los datos\n",
    "        insert_query = \"\"\"\n",
    "        INSERT INTO Users (ID_Vertical, Nombre, Apellidos, Fecha_nacimiento, nombre_usuario, password)\n",
    "        VALUES\n",
    "        (1, 'Borja', 'Barber', '1985-02-16', 'bbarber', 'pikachu');\n",
    "        \"\"\"\n",
    "        \n",
    "        # Ejecutar la consulta\n",
    "        cursor.execute(insert_query)\n",
    "        db.commit()  # Confirmar la inserción\n",
    "        print(\"Datos insertados correctamente.\")\n",
    "        \n",
    "except pymysql.MySQLError as err:\n",
    "    print(f\"Error al insertar los datos: {err}\")"
   ]
  },
  {
   "cell_type": "code",
   "execution_count": 56,
   "metadata": {},
   "outputs": [
    {
     "name": "stdout",
     "output_type": "stream",
     "text": [
      "Columnas en la tabla vertical: ['ID_User', 'ID_Vertical', 'Nombre', 'Apellidos', 'Fecha_nacimiento', 'nombre_usuario', 'password']\n"
     ]
    }
   ],
   "source": [
    "try:\n",
    "    with db.cursor() as cursor:\n",
    "        # Consulta para obtener las columnas de la tabla 'Users'\n",
    "        query = \"\"\"\n",
    "        SELECT COLUMN_NAME \n",
    "        FROM INFORMATION_SCHEMA.COLUMNS \n",
    "        WHERE TABLE_SCHEMA = 'users_registrados' AND TABLE_NAME = 'Users';\n",
    "        \"\"\"\n",
    "        \n",
    "        # Ejecutar la consulta\n",
    "        cursor.execute(query)\n",
    "        columns = cursor.fetchall()\n",
    "\n",
    "        # Extraer solo los nombres de columna\n",
    "        column_names = [col[\"COLUMN_NAME\"] for col in columns]\n",
    "        print(\"Columnas en la tabla vertical:\", column_names)\n",
    "\n",
    "except pymysql.MySQLError as err:\n",
    "    print(f\"Error al consultar las columnas: {err}\")"
   ]
  },
  {
   "cell_type": "code",
   "execution_count": 4,
   "metadata": {},
   "outputs": [],
   "source": [
    "cursor.execute('''SELECT * FROM consultas''')\n",
    "consultas = cursor.fetchall()"
   ]
  },
  {
   "cell_type": "code",
   "execution_count": 5,
   "metadata": {},
   "outputs": [
    {
     "data": {
      "text/plain": [
       "[{'id': 1,\n",
       "  'pregunta': '\"hola\"',\n",
       "  'respuesta': 'Los folletos promocionales ofrecen una visión general de varios programas de formación en línea en los campos de Data Science, Full Stack y Ciberseguridad. Cada programa se estructura en módulos y sprints semanales, con una variedad de herramientas y recursos de aprendizaje. El enfoque es práctico, con retos y proyectos que imitan situaciones reales. Los temas cubiertos incluyen machine learning, ciberseguridad, programación, APIs, despliegue de datos, gestión de contenedores y más. El proceso de admisión implica un test de personalidad y agilidad mental, con opciones de pago flexibles y ayuda financiera disponible.',\n",
       "  'created_at': datetime.datetime(2025, 3, 10, 14, 49, 58)},\n",
       " {'id': 2,\n",
       "  'pregunta': '\"dime qu\\\\u00e9 contiene el modulo de data science\"',\n",
       "  'respuesta': 'El módulo de Data Science cubre temas como la identificación de problemas de Machine Learning, evaluación y construcción de modelos, manipulación de datos con Pandas, aplicación de técnicas de reducción de dimensionalidad, uso de APIs, despliegue de datos, inteligencia artificial con ChatGPT, programación en Python y más. El enfoque es práctico e incluye proyectos reales y tareas de refuerzo.',\n",
       "  'created_at': datetime.datetime(2025, 3, 10, 14, 50, 48)},\n",
       " {'id': 3,\n",
       "  'pregunta': '\"hola\"',\n",
       "  'respuesta': 'Los folletos promocionales describen programas de formación en línea en áreas como Data Science, Full Stack, y Ciberseguridad. Cada programa se adapta a diferentes perfiles de estudiantes, desde recién graduados hasta profesionales que buscan mejorar sus habilidades o cambiar de carrera. Los cursos incluyen ejercicios prácticos, sesiones en vivo y proyectos para una experiencia de aprendizaje completa. La información sobre precios y módulos específicos no está incluida en el texto proporcionado, por lo que no puedo brindar detalles al respecto.',\n",
       "  'created_at': datetime.datetime(2025, 3, 10, 15, 12, 53)},\n",
       " {'id': 4,\n",
       "  'pregunta': '\"hola\"',\n",
       "  'respuesta': 'Hola, ¿en qué puedo ayudarte?',\n",
       "  'created_at': datetime.datetime(2025, 3, 10, 15, 14, 11)},\n",
       " {'id': 5,\n",
       "  'pregunta': '\"qu\\\\u00e9 contenido tiene el bootcamp de data science?\"',\n",
       "  'respuesta': 'El Bootcamp de Data Science cubre temas como programación aplicada a datos, extracción y análisis de datos, inteligencia artificial, machine learning, uso de APIs, y visualización de datos con Tableau y Python. También se abordan habilidades colaborativas, control de versiones con Git y metodologías ágiles.',\n",
       "  'created_at': datetime.datetime(2025, 3, 10, 15, 14, 28)},\n",
       " {'id': 6,\n",
       "  'pregunta': '\"Y qu\\\\u00e9 precio tiene?\"',\n",
       "  'respuesta': 'El precio del Bootcamp de Data Science en The Bridge no está disponible en la base de datos proporcionada. Sin embargo, se mencionan diferentes formas de pago y opciones de financiamiento, como pago único, pago a plazos, becas y programas de financiamiento. Para conocer el precio exacto y los detalles de pago, se sugiere visitar el sitio web oficial de The Bridge o comunicarse directamente con su departamento de admisiones.',\n",
       "  'created_at': datetime.datetime(2025, 3, 10, 15, 14, 58)},\n",
       " {'id': 7,\n",
       "  'pregunta': '\"y cuantos \\\\u20ac cuesta?\"',\n",
       "  'respuesta': 'Lamentablemente, el precio del Bootcamp de Data Science no está disponible en la base de datos proporcionada. Se mencionan opciones de pago y financiamiento, pero no se especifica el costo total. Para obtener información precisa sobre el precio, se recomienda visitar el sitio web oficial de The Bridge o comunicarse directamente con su departamento de admisiones.',\n",
       "  'created_at': datetime.datetime(2025, 3, 10, 15, 15, 31)},\n",
       " {'id': 8,\n",
       "  'pregunta': '\"y euros?\"',\n",
       "  'respuesta': 'Lamentablemente, la información proporcionada no incluye el precio en euros del Bootcamp de Data Science. Se mencionan opciones de pago y financiamiento, pero no se especifica el costo total en euros. Para obtener información precisa sobre el precio, se recomienda visitar el sitio web oficial de The Bridge o comunicarse directamente con su departamento de admisiones.',\n",
       "  'created_at': datetime.datetime(2025, 3, 10, 15, 15, 39)},\n",
       " {'id': 9,\n",
       "  'pregunta': '\"en cu\\\\u00e1ntas ciudades hay the bridge?\"',\n",
       "  'respuesta': 'The Bridge cuenta con cuatro sedes en España: Madrid, Valencia, Bilbao y una sede en línea.',\n",
       "  'created_at': datetime.datetime(2025, 3, 10, 15, 16, 10)},\n",
       " {'id': 10,\n",
       "  'pregunta': '\"cu\\\\u00e1ntas modalidades de estudio hay?\"',\n",
       "  'respuesta': 'Hay dos modalidades de estudio disponibles: en línea y presencial. La modalidad en línea ofrece flexibilidad para estudiar desde cualquier lugar, mientras que la modalidad presencial se lleva a cabo en las sedes físicas de The Bridge en Madrid, Valencia y Bilbao.',\n",
       "  'created_at': datetime.datetime(2025, 3, 10, 15, 16, 38)},\n",
       " {'id': 11,\n",
       "  'pregunta': '\"adios\"',\n",
       "  'respuesta': 'No hay suficiente información en la base de datos para responder a la consulta \"adios\". Por favor, proporciona más contexto o detalles para que pueda ayudarte.',\n",
       "  'created_at': datetime.datetime(2025, 3, 10, 15, 16, 57)},\n",
       " {'id': 12,\n",
       "  'pregunta': '\"con la vida\"',\n",
       "  'respuesta': 'The Bridge ofrece bootcamps en línea y presenciales en Madrid, Valencia y Bilbao. Los programas están diseñados para recién graduados, personas que buscan un cambio de carrera o profesionales que buscan mejorar sus habilidades. Los bootcamps en Data Science y Full Stack ofrecen salidas profesionales como data scientist, analyst, developer y project manager. El proceso de admisión incluye un test de personalidad y agilidad de aprendizaje, y hay disponibles descuentos y ayudas al estudio.',\n",
       "  'created_at': datetime.datetime(2025, 3, 10, 15, 20, 6)},\n",
       " {'id': 13,\n",
       "  'pregunta': '\"cuantos bootcamps hay?\"',\n",
       "  'respuesta': 'Hay tres bootcamps mencionados: Ciberseguridad, Desarrollo Web Full Stack y Data Science. Sin embargo, no está claro si hay otros bootcamps adicionales ofrecidos por The Bridge School.',\n",
       "  'created_at': datetime.datetime(2025, 3, 10, 15, 34, 12)},\n",
       " {'id': 14,\n",
       "  'pregunta': '\"cuantos bootcamps hay\"',\n",
       "  'respuesta': 'The Bridge School ofrece cuatro bootcamps: Ciberseguridad, Desarrollo Web Full Stack, Data Science y otro en Ciberseguridad en línea.',\n",
       "  'created_at': datetime.datetime(2025, 3, 11, 11, 26, 23)},\n",
       " {'id': 15,\n",
       "  'pregunta': '\"cuantos bootcamps hay?\"',\n",
       "  'respuesta': 'Hay tres bootcamps mencionados: Ciberseguridad, Desarrollo Web Full Stack y Data Science. Sin embargo, no queda claro si el bootcamp de Data Science es un programa separado o si es el mismo que el bootcamp de ciberseguridad, ya que solo se menciona brevemente en uno de los folletos.',\n",
       "  'created_at': datetime.datetime(2025, 3, 11, 11, 32, 17)},\n",
       " {'id': 16,\n",
       "  'pregunta': '\"cuantos bootcamps hay?\"',\n",
       "  'respuesta': 'Hay tres bootcamps mencionados: Ciberseguridad, Desarrollo Web Full Stack y Data Science. Sin embargo, no queda claro si el bootcamp de Data Science es un programa separado o si es el mismo que el bootcamp de ciberseguridad, ya que solo se menciona brevemente en uno de los folletos.',\n",
       "  'created_at': datetime.datetime(2025, 3, 11, 11, 46, 17)},\n",
       " {'id': 17,\n",
       "  'pregunta': '\"cuantos bootcamps hay?\"',\n",
       "  'respuesta': 'Hay tres bootcamps mencionados: Ciberseguridad, Desarrollo Web Full Stack y Data Science. Sin embargo, no está claro si hay otros bootcamps adicionales ofrecidos por The Bridge School.',\n",
       "  'created_at': datetime.datetime(2025, 3, 11, 11, 49, 37)},\n",
       " {'id': 18,\n",
       "  'pregunta': '\"cuantos \"',\n",
       "  'respuesta': 'La información proporcionada no especifica a qué se refiere la palabra \"cuantos\". Por favor, aclara tu pregunta para que pueda brindarte una respuesta más precisa.',\n",
       "  'created_at': datetime.datetime(2025, 3, 11, 12, 35, 42)},\n",
       " {'id': 19,\n",
       "  'pregunta': '\"cuantos bootcamps hay?\"',\n",
       "  'respuesta': 'Hay tres bootcamps mencionados: Ciberseguridad, Desarrollo Web Full Stack y Data Science. Sin embargo, no está claro si hay otros bootcamps adicionales ofrecidos por The Bridge School.',\n",
       "  'created_at': datetime.datetime(2025, 3, 11, 12, 46, 14)},\n",
       " {'id': 20,\n",
       "  'pregunta': '\"todo bien?\"',\n",
       "  'respuesta': 'Hay tres bootcamps mencionados: Ciberseguridad, Desarrollo Web Full Stack y Data Science. Sin embargo, no está claro si hay otros bootcamps adicionales ofrecidos por The Bridge School.',\n",
       "  'created_at': datetime.datetime(2025, 3, 11, 13, 16, 1)},\n",
       " {'id': 21,\n",
       "  'pregunta': '\"cuantos bootcamps hay?\"',\n",
       "  'respuesta': 'Hay tres bootcamps mencionados: Ciberseguridad, Desarrollo Web Full Stack y Data Science. Sin embargo, no está claro si hay otros bootcamps adicionales ofrecidos por The Bridge School.',\n",
       "  'created_at': datetime.datetime(2025, 3, 11, 14, 32, 47)},\n",
       " {'id': 22,\n",
       "  'pregunta': '\"Cu\\\\u00e1ntos bootcamps hay?\"',\n",
       "  'respuesta': 'Hay cuatro bootcamps mencionados: Ciberseguridad, Desarrollo Web Full Stack, Ciberseguridad Online y Data Science Online. Sin embargo, no está claro si estos son todos los bootcamps ofrecidos por The Bridge o solo una muestra.',\n",
       "  'created_at': datetime.datetime(2025, 3, 11, 15, 56, 47)},\n",
       " {'id': 23,\n",
       "  'pregunta': '\"cu\\\\u00e1les son los m\\\\u00f3dulos de data science?\"',\n",
       "  'respuesta': 'Los módulos de Data Science incluyen: fundamentos de programación en Python, análisis de datos, Machine Learning, reducción de dimensionalidad de datos con PCA, NLP, despliegue de datos, APIs, Docker, Amazon Web Services, y Big Data.',\n",
       "  'created_at': datetime.datetime(2025, 3, 11, 16, 14, 39)},\n",
       " {'id': 24,\n",
       "  'pregunta': '\"A qui\\\\u00e9n van a promocionar a Vitoria?\"',\n",
       "  'respuesta': 'Los módulos de Data Science incluyen: fundamentos de programación en Python, análisis de datos, Machine Learning, reducción de dimensionalidad de datos con PCA, NLP, despliegue de datos, APIs, Docker, Amazon Web Services, y Big Data.',\n",
       "  'created_at': datetime.datetime(2025, 3, 11, 16, 16, 18)},\n",
       " {'id': 25,\n",
       "  'pregunta': '\"A qui\\\\u00e9n van a promocionar a Vitoria?\"',\n",
       "  'respuesta': 'Lamento informar que no encontré información específica sobre promociones o ascensos en la ciudad de Vitoria en los documentos proporcionados. Si hay algún detalle adicional que desee consultar o si tiene otra pregunta, por favor, hágamelo saber y le ayudaré con gusto.',\n",
       "  'created_at': datetime.datetime(2025, 3, 11, 16, 16, 36)},\n",
       " {'id': 26,\n",
       "  'pregunta': '\"hay curso de marketing digital?\"',\n",
       "  'respuesta': 'No encontré información específica sobre un curso de marketing digital en los documentos proporcionados o en el sitio web de The Bridge School. Sin embargo, ofrecen bootcamps en áreas como ciberseguridad y desarrollo web full stack.',\n",
       "  'created_at': datetime.datetime(2025, 3, 11, 16, 17, 5)},\n",
       " {'id': 27,\n",
       "  'pregunta': '\"han ascendido a alguien a Vitoria?\"',\n",
       "  'respuesta': 'Lamento informar que no encontré información específica sobre ascensos o promociones a Vitoria en los documentos proporcionados. Si hay algún detalle adicional que desee consultar o si tiene otra pregunta, por favor hágamelo saber y le ayudaré con gusto.',\n",
       "  'created_at': datetime.datetime(2025, 3, 11, 16, 17, 25)},\n",
       " {'id': 28,\n",
       "  'pregunta': '\"A qui\\\\u00e9n ahan promocionado a Teacher Lead\"',\n",
       "  'respuesta': 'Lamentablemente, no encontré información específica sobre promociones o ascensos a Teacher Lead en los documentos proporcionados. Si hay algún detalle adicional que desee consultar o si tiene otra pregunta, por favor hágamelo saber y le ayudaré con gusto.',\n",
       "  'created_at': datetime.datetime(2025, 3, 11, 16, 17, 56)},\n",
       " {'id': 29,\n",
       "  'pregunta': '\"Cu\\\\u00e1ntos bootcamps hay en Madrid?\"',\n",
       "  'respuesta': 'The Bridge School ofrece varios bootcamps en Madrid, incluyendo ciberseguridad, desarrollo web full stack, data science e inteligencia artificial. Lamentablemente, no encontré el número exacto de bootcamps disponibles en Madrid en los documentos proporcionados. Para obtener información más detallada, puede ser necesario consultar directamente con The Bridge School o revisar sus materiales promocionales más recientes.',\n",
       "  'created_at': datetime.datetime(2025, 3, 11, 16, 18, 21)},\n",
       " {'id': 30,\n",
       "  'pregunta': '\"y en Valencia?\"',\n",
       "  'respuesta': 'The Bridge School tiene un campus en Valencia, ubicado en la Calle de Joan Verdeguer, 116. Este campus forma parte del proyecto Valencia Innovation Capital y se encuentra en el centro tecnológico e innovador de la ciudad, fomentando la sinergia entre startups, inversores y otros actores del ecosistema tecnológico.',\n",
       "  'created_at': datetime.datetime(2025, 3, 11, 16, 19, 48)},\n",
       " {'id': 31,\n",
       "  'pregunta': '\"Hay bootcamp en Barcelona?\"',\n",
       "  'respuesta': 'No encontré información específica sobre un campus o bootcamp de The Bridge School en Barcelona en los documentos proporcionados. Los campus mencionados son Madrid, Bilbao, Valencia y un campus en línea.',\n",
       "  'created_at': datetime.datetime(2025, 3, 11, 16, 20, 53)},\n",
       " {'id': 32,\n",
       "  'pregunta': '\"Existen bootcamps en Barcelona?\"',\n",
       "  'respuesta': 'Según la información proporcionada, The Bridge School ofrece bootcamps en Madrid, Bilbao, Valencia y en línea. No se menciona un campus o bootcamp en Barcelona.',\n",
       "  'created_at': datetime.datetime(2025, 3, 11, 16, 21, 18)},\n",
       " {'id': 33,\n",
       "  'pregunta': '\"Hay alg\\\\u00fan Diegeo en The bridge?\"',\n",
       "  'respuesta': 'No encontré información sobre alguien llamado Diegeo en The Bridge School. Si me proporcionas más detalles o contexto, puedo intentar buscar nuevamente.',\n",
       "  'created_at': datetime.datetime(2025, 3, 11, 16, 21, 24)},\n",
       " {'id': 34,\n",
       "  'pregunta': '\"En que m\\\\u00f3dulos se divide el bootcamp de data science \"',\n",
       "  'respuesta': 'El bootcamp de Data Science se divide en varios módulos que cubren temas como análisis de datos, inteligencia artificial, machine learning, despliegue de datos y programación en Python. No se proporcionan detalles específicos sobre la estructura del programa o los nombres de los módulos, pero los documentos mencionan bloques o secciones dedicadas al análisis de datos, machine learning, despliegue y conceptos básicos de programación.',\n",
       "  'created_at': datetime.datetime(2025, 3, 11, 16, 21, 35)},\n",
       " {'id': 35,\n",
       "  'pregunta': '\"Perdona, Diego\"',\n",
       "  'respuesta': 'No hay información disponible sobre un campus o bootcamp de The Bridge School en Barcelona. Los bootcamps mencionados se llevan a cabo en Madrid, Bilbao y Valencia, y también se ofrecen en línea.',\n",
       "  'created_at': datetime.datetime(2025, 3, 11, 16, 21, 43)},\n",
       " {'id': 36,\n",
       "  'pregunta': '\"Cuales son los pasos del proceso de admisi\\\\u00f3n \"',\n",
       "  'respuesta': 'El proceso de admisión consta de tres pasos principales: completar un formulario de solicitud, realizar un test de personalidad y agilidad de aprendizaje, y finalmente, recibir los resultados y, si se es aceptado, proceder con la matrícula y el curso preparatorio.',\n",
       "  'created_at': datetime.datetime(2025, 3, 11, 16, 21, 53)},\n",
       " {'id': 37,\n",
       "  'pregunta': '\"Cu\\\\u00e1nto cuesta un bootcamp de datascience\"',\n",
       "  'respuesta': 'El precio del Bootcamp de Data Science no está disponible en la base de datos proporcionada. Sin embargo, el sitio web de The Bridge School menciona que el costo del programa es de 8.900€. Además, ofrecen opciones de financiación y becas para ayudar a los estudiantes a cubrir los costos.',\n",
       "  'created_at': datetime.datetime(2025, 3, 11, 16, 22, 3)},\n",
       " {'id': 38,\n",
       "  'pregunta': '\"En qu\\\\u00e9 m\\\\u00f3dulos se compone el de data science?\"',\n",
       "  'respuesta': 'El Bootcamp de Data Science se compone de 6 módulos que incluyen: fundamentos de programación en Python, análisis de datos, inteligencia artificial y machine learning, despliegues de datos, APIs y arquitecturas de software, y conceptos de Big Data. Cada módulo se divide en sprints y sesiones en vivo, con trabajo individual y en equipo.',\n",
       "  'created_at': datetime.datetime(2025, 3, 11, 16, 22, 21)},\n",
       " {'id': 39,\n",
       "  'pregunta': '\"C\\\\u00f3mo es el proceso de admisi\\\\u00f3n?\"',\n",
       "  'respuesta': 'El proceso de admisión consta de tres pasos principales: completar un formulario de solicitud, realizar un test de personalidad y agilidad de aprendizaje, y finalmente, recibir los resultados y, si se es aceptado, proceder con la matrícula y el curso preparatorio.',\n",
       "  'created_at': datetime.datetime(2025, 3, 11, 16, 22, 45)},\n",
       " {'id': 40,\n",
       "  'pregunta': '\"Cu\\\\u00e1ntos profesores tiene The Bridge\"',\n",
       "  'respuesta': 'La información proporcionada no especifica el número exacto de profesores en The Bridge School. Sin embargo, se puede inferir que hay varios instructores o profesores involucrados en los diferentes bootcamps ofrecidos por la escuela, como se menciona en los folletos informativos.',\n",
       "  'created_at': datetime.datetime(2025, 3, 11, 16, 23, 21)},\n",
       " {'id': 41,\n",
       "  'pregunta': '\"Qu\\\\u00e9 esun le\\\\u00f3n?\"',\n",
       "  'respuesta': 'El león es el mayor felino del género Panthera nativo de África y Asia. Se caracteriza por su pelaje dorado, su melena en los machos y su poderosa complexión física. Son animales sociales que viven en manadas y tienen un papel significativo en el ecosistema como depredadores ápice.',\n",
       "  'created_at': datetime.datetime(2025, 3, 11, 16, 23, 24)},\n",
       " {'id': 42,\n",
       "  'pregunta': '\"Cuanto dura un bootcamp de Data Science \"',\n",
       "  'respuesta': 'La duración del Bootcamp en Data Science e Inteligencia Artificial es de 22 semanas, durante las cuales los estudiantes adquieren conocimientos y habilidades avanzadas en programación aplicada a datos, análisis de datos con Python y uso de plataformas de recopilación de datos.',\n",
       "  'created_at': datetime.datetime(2025, 3, 11, 16, 23, 25)},\n",
       " {'id': 43,\n",
       "  'pregunta': '\"y una jirafa?\"',\n",
       "  'respuesta': 'La jirafa es el animal terrestre más alto, originario de África. Se caracteriza por su largo cuello, su pelaje moteado y su lengua larga y oscura. Son herbívoros y pasan la mayor parte del tiempo alimentándose de hojas y brotes en las copas de los árboles.',\n",
       "  'created_at': datetime.datetime(2025, 3, 11, 16, 23, 43)},\n",
       " {'id': 44,\n",
       "  'pregunta': '\"d\\\\u00f3nde puedo comprar flores?\"',\n",
       "  'respuesta': 'Lamentablemente, no puedo responder a su consulta sobre dónde comprar flores, ya que la información proporcionada no está relacionada con este tema.',\n",
       "  'created_at': datetime.datetime(2025, 3, 11, 16, 24, 5)},\n",
       " {'id': 45,\n",
       "  'pregunta': '\"Quien es el presidente de espa\\\\u00f1a\"',\n",
       "  'respuesta': 'El presidente de España actualmente es Pedro Sánchez, del Partido Socialista Obrero Español (PSOE). Asumió el cargo en junio de 2018 y ha ocupado varios cargos ministeriales a lo largo de su carrera política.',\n",
       "  'created_at': datetime.datetime(2025, 3, 11, 16, 24, 32)},\n",
       " {'id': 46,\n",
       "  'pregunta': '\"Cres que Diego le gana a un lobo?\"',\n",
       "  'respuesta': 'Lamentablemente, no hay información relevante en la base de datos proporcionada que pueda usarse para responder a esta consulta.',\n",
       "  'created_at': datetime.datetime(2025, 3, 11, 16, 24, 39)},\n",
       " {'id': 47,\n",
       "  'pregunta': '\"Me duele la espalda a d\\\\u00f3nde voy?\"',\n",
       "  'respuesta': 'Puede acudir a un fisioterapeuta o quiropráctico para recibir tratamiento y aliviar el dolor de espalda. También puede considerar la práctica de yoga o pilates para fortalecer y mejorar la flexibilidad de la espalda. Si el dolor es severo o persistente, consulte a un médico para una evaluación más completa.',\n",
       "  'created_at': datetime.datetime(2025, 3, 11, 16, 25, 20)},\n",
       " {'id': 48,\n",
       "  'pregunta': '\"Cu\\\\u00e1l es la receta de la paella\"',\n",
       "  'respuesta': 'Lamentablemente, la información proporcionada no contiene la receta de la paella.',\n",
       "  'created_at': datetime.datetime(2025, 3, 11, 16, 25, 26)},\n",
       " {'id': 49,\n",
       "  'pregunta': '\"Quien es el presidente de cuba\"',\n",
       "  'respuesta': 'La información proporcionada no contiene datos relevantes sobre el presidente de Cuba. No es posible responder a la consulta con los datos disponibles.',\n",
       "  'created_at': datetime.datetime(2025, 3, 11, 16, 25, 55)},\n",
       " {'id': 50,\n",
       "  'pregunta': '\"Quien es Fidel Castro\"',\n",
       "  'respuesta': 'La información proporcionada no contiene datos relevantes sobre Fidel Castro. No es posible responder a la consulta con los datos disponibles.',\n",
       "  'created_at': datetime.datetime(2025, 3, 11, 16, 26, 43)},\n",
       " {'id': 51,\n",
       "  'pregunta': '\"Que es un le\\\\u00f3n?\"',\n",
       "  'respuesta': 'El león es un mamífero carnívoro de la familia de los félidos, conocido por su gran tamaño, su melena característica en los machos y su presencia en diversas culturas y mitos a lo largo de la historia humana. Son animales sociales que viven en manadas y habitan en las sabanas y praderas de África, donde cazan y defienden su territorio.',\n",
       "  'created_at': datetime.datetime(2025, 3, 11, 16, 28, 30)},\n",
       " {'id': 52,\n",
       "  'pregunta': '\"Que es un lobo\"',\n",
       "  'respuesta': 'El lobo es un mamífero carnívoro de la familia de los cánidos, conocido por su aullido característico y su presencia en mitos y leyendas de diversas culturas. Son animales sociales que viven en manadas y cazan en grupo.',\n",
       "  'created_at': datetime.datetime(2025, 3, 11, 16, 28, 33)},\n",
       " {'id': 53,\n",
       "  'pregunta': '\"Cu\\\\u00e1nto es la ra\\\\u00edz cuadrada de 45\"',\n",
       "  'respuesta': 'Los folletos promocionales de The Bridge School ofrecen una variedad de programas de Bootcamp en línea y presenciales relacionados con la ciencia de datos y la ciberseguridad. Estos programas cubren temas como la inteligencia artificial, el aprendizaje automático, la reducción de la dimensionalidad de datos, el procesamiento del lenguaje natural, la creación de API, la gestión de contenedores Docker, la integración con Amazon Web Services, y más. El enfoque en la empleabilidad es evidente, con un programa \"Career Readiness\" que ayuda a los estudiantes a mejorar sus perspectivas laborales. La escuela también se enorgullece de sus altas tasas de inscripción y su éxito en ayudar a los estudiantes a obtener empleos.\\n\\nLa raíz cuadrada de 45',\n",
       "  'created_at': datetime.datetime(2025, 3, 11, 16, 29, 44)},\n",
       " {'id': 54,\n",
       "  'pregunta': '\"cu\\\\u00e1ntos m\\\\u00f3dulos tiene ciber seguridad\"',\n",
       "  'respuesta': 'El Bootcamp de Ciberseguridad de The Bridge está dividido en tres bloques principales: Fundamentos de Ciberseguridad, Seguridad Ofensiva y Seguridad Defensiva. Cada bloque abarca diferentes temas y habilidades específicas relacionadas con la ciberseguridad. Sin embargo, no se especifica el número exacto de módulos dentro de cada bloque.',\n",
       "  'created_at': datetime.datetime(2025, 3, 11, 16, 45, 15)},\n",
       " {'id': 55,\n",
       "  'pregunta': '\"y qu\\\\u00e9 contenido tiene?\"',\n",
       "  'respuesta': 'El Bootcamp de Ciberseguridad está dividido en tres bloques principales: Fundamentos de Ciberseguridad, Seguridad Ofensiva y Seguridad Defensiva. Lamentablemente, no se especifica el número exacto de módulos dentro de cada bloque.',\n",
       "  'created_at': datetime.datetime(2025, 3, 11, 16, 46, 40)},\n",
       " {'id': 56,\n",
       "  'pregunta': '\"d\\\\u00f3nde puedo comer cocido en Madrid?\"',\n",
       "  'respuesta': 'El Bootcamp de Ciberseguridad de The Bridge está dividido en tres bloques principales: Fundamentos de Ciberseguridad, Seguridad Ofensiva y Seguridad Defensiva. Cada bloque abarca temas específicos relacionados con la ciberseguridad, pero no se detalla el contenido exacto de cada módulo. Para obtener información más detallada sobre los módulos y el contenido del programa, es recomendable visitar el sitio web oficial de The Bridge o comunicarse directamente con ellos para solicitar información adicional.',\n",
       "  'created_at': datetime.datetime(2025, 3, 11, 16, 47, 12)},\n",
       " {'id': 57,\n",
       "  'pregunta': '\"d\\\\u00f3nde puedo comer cocido en Madrid?\"',\n",
       "  'respuesta': 'Lamentablemente, no se encontró información relevante sobre lugares para comer cocido en Madrid en la base de datos proporcionada ni en los sitios web relacionados con The Bridge School.',\n",
       "  'created_at': datetime.datetime(2025, 3, 11, 16, 47, 33)},\n",
       " {'id': 58,\n",
       "  'pregunta': '\"how many courses are in Madrid?\"',\n",
       "  'respuesta': 'Actualmente, The Bridge School ofrece varios bootcamps y programas en línea, pero la información sobre cursos específicos en Madrid no está disponible en la base de datos proporcionada. Es posible que se ofrezcan cursos en el campus de Madrid, pero se necesitan más detalles para responder a la consulta con precisión.',\n",
       "  'created_at': datetime.datetime(2025, 3, 11, 16, 50, 37)}]"
      ]
     },
     "execution_count": 5,
     "metadata": {},
     "output_type": "execute_result"
    }
   ],
   "source": [
    "consultas"
   ]
  },
  {
   "cell_type": "code",
   "execution_count": 89,
   "metadata": {},
   "outputs": [],
   "source": [
    "cursor.execute('''SELECT * FROM Users''')\n",
    "usuarios = cursor.fetchall()"
   ]
  },
  {
   "cell_type": "code",
   "execution_count": 82,
   "metadata": {},
   "outputs": [],
   "source": [
    "query = \"\"\"\n",
    "    INSERT INTO Users (ID_Vertical, Nombre, Apellidos, Fecha_nacimiento, nombre_usuario, password)\n",
    "    VALUES (%s, %s, %s, %s, %s, %s)\n",
    "    \"\"\"\n",
    "\n",
    "    # Lista de valores en el orden de las columnas\n",
    "valores = [\n",
    "    (1, \"Vanessa\", \"Lopez\", \"1988-6-14\", \"vlopez\", \"aliciareliqia\"),\n",
    "    (1, \"Nacho\", \"Miguelsanz\", \"1998-01-28\", \"nmiguelsanz\", \"praga\"),\n",
    "    (1, \"Irene\", \"Arrabe\", \"2000-01-13\", \"iarrabe\", \"bolzano\"),\n",
    "    (1, \"Felix\", \"de Molina\", \"1985-03-12\", \"fdemolina\", \"pelicula\"),\n",
    "    (1, \"Iñigo\", \"Pascual\", \"1989-05-23\", \"ipascual\", \"renfe\"),\n",
    "    (1, \"Alejandro\", \"Reyes\", \"1992-05-23\", \"areyes\", \"docker\")\n",
    "\n",
    "]"
   ]
  },
  {
   "cell_type": "code",
   "execution_count": 83,
   "metadata": {},
   "outputs": [
    {
     "data": {
      "text/plain": [
       "6"
      ]
     },
     "execution_count": 83,
     "metadata": {},
     "output_type": "execute_result"
    }
   ],
   "source": [
    "cursor.executemany(query, valores)"
   ]
  },
  {
   "cell_type": "code",
   "execution_count": 30,
   "metadata": {},
   "outputs": [
    {
     "data": {
      "text/plain": [
       "6"
      ]
     },
     "execution_count": 30,
     "metadata": {},
     "output_type": "execute_result"
    }
   ],
   "source": [
    "cursor.execute(\"\"\"SHOW TABLES\"\"\")"
   ]
  },
  {
   "cell_type": "code",
   "execution_count": 48,
   "metadata": {},
   "outputs": [],
   "source": [
    "query = \"INSERT INTO Verticales (vertical) VALUES (%s)\"\n",
    "valores = [(\"Data Science\",), (\"Full Stack\",), (\"Ciberseguridad\",)]"
   ]
  },
  {
   "cell_type": "code",
   "execution_count": 54,
   "metadata": {},
   "outputs": [
    {
     "data": {
      "text/plain": [
       "3"
      ]
     },
     "execution_count": 54,
     "metadata": {},
     "output_type": "execute_result"
    }
   ],
   "source": [
    "cursor.executemany(query, valores)"
   ]
  },
  {
   "cell_type": "code",
   "execution_count": 84,
   "metadata": {},
   "outputs": [],
   "source": [
    "db.commit()"
   ]
  },
  {
   "cell_type": "code",
   "execution_count": null,
   "metadata": {},
   "outputs": [],
   "source": []
  },
  {
   "cell_type": "code",
   "execution_count": null,
   "metadata": {},
   "outputs": [],
   "source": []
  },
  {
   "cell_type": "code",
   "execution_count": null,
   "metadata": {},
   "outputs": [],
   "source": []
  },
  {
   "cell_type": "code",
   "execution_count": null,
   "metadata": {},
   "outputs": [],
   "source": []
  },
  {
   "cell_type": "code",
   "execution_count": null,
   "metadata": {},
   "outputs": [],
   "source": []
  },
  {
   "cell_type": "code",
   "execution_count": null,
   "metadata": {},
   "outputs": [],
   "source": []
  },
  {
   "cell_type": "code",
   "execution_count": 117,
   "metadata": {},
   "outputs": [],
   "source": [
    "db.commit()"
   ]
  },
  {
   "cell_type": "code",
   "execution_count": 25,
   "metadata": {},
   "outputs": [],
   "source": [
    "cursor.close()"
   ]
  },
  {
   "cell_type": "code",
   "execution_count": 24,
   "metadata": {},
   "outputs": [
    {
     "ename": "Error",
     "evalue": "Already closed",
     "output_type": "error",
     "traceback": [
      "\u001b[0;31m---------------------------------------------------------------------------\u001b[0m",
      "\u001b[0;31mError\u001b[0m                                     Traceback (most recent call last)",
      "Cell \u001b[0;32mIn[24], line 1\u001b[0m\n\u001b[0;32m----> 1\u001b[0m \u001b[43mdb\u001b[49m\u001b[38;5;241;43m.\u001b[39;49m\u001b[43mclose\u001b[49m\u001b[43m(\u001b[49m\u001b[43m)\u001b[49m\n",
      "File \u001b[0;32m~/tf_env/lib/python3.12/site-packages/pymysql/connections.py:414\u001b[0m, in \u001b[0;36mConnection.close\u001b[0;34m(self)\u001b[0m\n\u001b[1;32m    405\u001b[0m \u001b[38;5;250m\u001b[39m\u001b[38;5;124;03m\"\"\"\u001b[39;00m\n\u001b[1;32m    406\u001b[0m \u001b[38;5;124;03mSend the quit message and close the socket.\u001b[39;00m\n\u001b[1;32m    407\u001b[0m \n\u001b[0;32m   (...)\u001b[0m\n\u001b[1;32m    411\u001b[0m \u001b[38;5;124;03m:raise Error: If the connection is already closed.\u001b[39;00m\n\u001b[1;32m    412\u001b[0m \u001b[38;5;124;03m\"\"\"\u001b[39;00m\n\u001b[1;32m    413\u001b[0m \u001b[38;5;28;01mif\u001b[39;00m \u001b[38;5;28mself\u001b[39m\u001b[38;5;241m.\u001b[39m_closed:\n\u001b[0;32m--> 414\u001b[0m     \u001b[38;5;28;01mraise\u001b[39;00m err\u001b[38;5;241m.\u001b[39mError(\u001b[38;5;124m\"\u001b[39m\u001b[38;5;124mAlready closed\u001b[39m\u001b[38;5;124m\"\u001b[39m)\n\u001b[1;32m    415\u001b[0m \u001b[38;5;28mself\u001b[39m\u001b[38;5;241m.\u001b[39m_closed \u001b[38;5;241m=\u001b[39m \u001b[38;5;28;01mTrue\u001b[39;00m\n\u001b[1;32m    416\u001b[0m \u001b[38;5;28;01mif\u001b[39;00m \u001b[38;5;28mself\u001b[39m\u001b[38;5;241m.\u001b[39m_sock \u001b[38;5;129;01mis\u001b[39;00m \u001b[38;5;28;01mNone\u001b[39;00m:\n",
      "\u001b[0;31mError\u001b[0m: Already closed"
     ]
    }
   ],
   "source": [
    "db.close()"
   ]
  }
 ],
 "metadata": {
  "kernelspec": {
   "display_name": "tf_env",
   "language": "python",
   "name": "python3"
  },
  "language_info": {
   "codemirror_mode": {
    "name": "ipython",
    "version": 3
   },
   "file_extension": ".py",
   "mimetype": "text/x-python",
   "name": "python",
   "nbconvert_exporter": "python",
   "pygments_lexer": "ipython3",
   "version": "3.12.8"
  }
 },
 "nbformat": 4,
 "nbformat_minor": 2
}
