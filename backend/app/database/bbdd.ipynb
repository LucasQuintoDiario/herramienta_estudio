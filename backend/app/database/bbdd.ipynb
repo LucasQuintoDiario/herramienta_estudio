{
 "cells": [
  {
   "cell_type": "code",
   "execution_count": 99,
   "metadata": {},
   "outputs": [
    {
     "data": {
      "text/plain": [
       "True"
      ]
     },
     "execution_count": 99,
     "metadata": {},
     "output_type": "execute_result"
    }
   ],
   "source": [
    "import pymysql\n",
    "import pandas as pd\n",
    "import os\n",
    "from dotenv import load_dotenv\n",
    "load_dotenv()"
   ]
  },
  {
   "cell_type": "code",
   "execution_count": 100,
   "metadata": {},
   "outputs": [],
   "source": [
    "username = os.getenv(\"BBDD_USERNAME\")\n",
    "password = os.getenv(\"BBDD_PASSWORD\")\n",
    "host = os.getenv(\"BBDD_HOST\")\n",
    "port = os.getenv(\"BBDD_port\")"
   ]
  },
  {
   "cell_type": "code",
   "execution_count": 101,
   "metadata": {},
   "outputs": [
    {
     "data": {
      "text/plain": [
       "0"
      ]
     },
     "execution_count": 101,
     "metadata": {},
     "output_type": "execute_result"
    }
   ],
   "source": [
    "db = pymysql.connect(host = host,\n",
    "                     user = username,\n",
    "                     password = password,\n",
    "                     cursorclass = pymysql.cursors.DictCursor\n",
    ")\n",
    "\n",
    "cursor = db.cursor()\n",
    "use_db = '''USE users_registrados'''\n",
    "cursor.execute(use_db)"
   ]
  },
  {
   "cell_type": "code",
   "execution_count": 102,
   "metadata": {},
   "outputs": [
    {
     "data": {
      "text/plain": [
       "[{'Database': 'consultas'},\n",
       " {'Database': 'information_schema'},\n",
       " {'Database': 'mysql'},\n",
       " {'Database': 'performance_schema'},\n",
       " {'Database': 'sys'},\n",
       " {'Database': 'users_registrados'}]"
      ]
     },
     "execution_count": 102,
     "metadata": {},
     "output_type": "execute_result"
    }
   ],
   "source": [
    "cursor.execute('SHOW DATABASES')\n",
    "cursor.fetchall()"
   ]
  },
  {
   "cell_type": "code",
   "execution_count": 103,
   "metadata": {},
   "outputs": [
    {
     "data": {
      "text/plain": [
       "0"
      ]
     },
     "execution_count": 103,
     "metadata": {},
     "output_type": "execute_result"
    }
   ],
   "source": [
    "use_db = '''USE consultas'''\n",
    "cursor.execute(use_db)"
   ]
  },
  {
   "cell_type": "code",
   "execution_count": 78,
   "metadata": {},
   "outputs": [
    {
     "data": {
      "text/plain": [
       "0"
      ]
     },
     "execution_count": 78,
     "metadata": {},
     "output_type": "execute_result"
    }
   ],
   "source": [
    "use_db = '''USE users_registrados'''\n",
    "cursor.execute(use_db)"
   ]
  },
  {
   "cell_type": "code",
   "execution_count": 79,
   "metadata": {},
   "outputs": [
    {
     "data": {
      "text/plain": [
       "7"
      ]
     },
     "execution_count": 79,
     "metadata": {},
     "output_type": "execute_result"
    }
   ],
   "source": [
    "cursor.execute(\"DESCRIBE Users;\")"
   ]
  },
  {
   "cell_type": "code",
   "execution_count": null,
   "metadata": {},
   "outputs": [],
   "source": []
  },
  {
   "cell_type": "code",
   "execution_count": 43,
   "metadata": {},
   "outputs": [
    {
     "data": {
      "text/plain": [
       "4"
      ]
     },
     "execution_count": 43,
     "metadata": {},
     "output_type": "execute_result"
    }
   ],
   "source": [
    "cursor.execute(\"SHOW PROCESSLIST;\")"
   ]
  },
  {
   "cell_type": "code",
   "execution_count": 44,
   "metadata": {},
   "outputs": [
    {
     "name": "stdout",
     "output_type": "stream",
     "text": [
      "Procesos activos (4 encontrados):\n",
      "{'Id': 5, 'User': 'event_scheduler', 'Host': 'localhost', 'db': None, 'Command': 'Daemon', 'Time': 92196, 'State': 'Waiting on empty queue', 'Info': None}\n",
      "{'Id': 7, 'User': 'rdsadmin', 'Host': 'localhost', 'db': 'mysql', 'Command': 'Sleep', 'Time': 8, 'State': '', 'Info': None}\n",
      "{'Id': 403, 'User': 'admin', 'Host': '81.61.238.244:64114', 'db': None, 'Command': 'Sleep', 'Time': 135, 'State': '', 'Info': None}\n",
      "{'Id': 407, 'User': 'admin', 'Host': '81.61.238.244:64136', 'db': 'users_registrados', 'Command': 'Query', 'Time': 0, 'State': 'init', 'Info': 'SHOW PROCESSLIST'}\n"
     ]
    }
   ],
   "source": [
    "cursor.execute(\"SHOW PROCESSLIST;\")\n",
    "processes = cursor.fetchall()\n",
    "print(f\"Procesos activos ({len(processes)} encontrados):\")\n",
    "for process in processes:\n",
    "    print(process)"
   ]
  },
  {
   "cell_type": "code",
   "execution_count": 105,
   "metadata": {},
   "outputs": [
    {
     "name": "stdout",
     "output_type": "stream",
     "text": [
      "Estructura de la tabla Users:\n",
      "{'Field': 'id', 'Type': 'int', 'Null': 'NO', 'Key': 'PRI', 'Default': None, 'Extra': 'auto_increment'}\n",
      "{'Field': 'pregunta', 'Type': 'text', 'Null': 'YES', 'Key': '', 'Default': None, 'Extra': ''}\n",
      "{'Field': 'respuesta', 'Type': 'text', 'Null': 'YES', 'Key': '', 'Default': None, 'Extra': ''}\n",
      "{'Field': 'created_at', 'Type': 'timestamp', 'Null': 'YES', 'Key': '', 'Default': 'CURRENT_TIMESTAMP', 'Extra': 'DEFAULT_GENERATED'}\n"
     ]
    }
   ],
   "source": [
    "try:\n",
    "    with db.cursor() as cursor:\n",
    "        cursor.execute(\"DESCRIBE consultas;\")\n",
    "        result = cursor.fetchall()  # Recupera todas las filas\n",
    "        print(\"Estructura de la tabla Users:\")\n",
    "        for row in result:\n",
    "            print(row)\n",
    "except pymysql.MySQLError as e:\n",
    "    print(f\"Error de base de datos: {str(e)}\")"
   ]
  },
  {
   "cell_type": "code",
   "execution_count": 6,
   "metadata": {},
   "outputs": [
    {
     "name": "stdout",
     "output_type": "stream",
     "text": [
      "Datos insertados correctamente.\n"
     ]
    }
   ],
   "source": [
    "try:\n",
    "    with db.cursor() as cursor:\n",
    "        # Consulta para insertar los datos\n",
    "        insert_query = \"\"\"\n",
    "        INSERT INTO Users (ID_Vertical, Nombre, Apellidos, Fecha_nacimiento, nombre_usuario, password)\n",
    "        VALUES\n",
    "        (1, 'Borja', 'Barber', '1985-02-16', 'bbarber', 'pikachu');\n",
    "        \"\"\"\n",
    "        \n",
    "        # Ejecutar la consulta\n",
    "        cursor.execute(insert_query)\n",
    "        db.commit()  # Confirmar la inserción\n",
    "        print(\"Datos insertados correctamente.\")\n",
    "        \n",
    "except pymysql.MySQLError as err:\n",
    "    print(f\"Error al insertar los datos: {err}\")"
   ]
  },
  {
   "cell_type": "code",
   "execution_count": 56,
   "metadata": {},
   "outputs": [
    {
     "name": "stdout",
     "output_type": "stream",
     "text": [
      "Columnas en la tabla vertical: ['ID_User', 'ID_Vertical', 'Nombre', 'Apellidos', 'Fecha_nacimiento', 'nombre_usuario', 'password']\n"
     ]
    }
   ],
   "source": [
    "try:\n",
    "    with db.cursor() as cursor:\n",
    "        # Consulta para obtener las columnas de la tabla 'Users'\n",
    "        query = \"\"\"\n",
    "        SELECT COLUMN_NAME \n",
    "        FROM INFORMATION_SCHEMA.COLUMNS \n",
    "        WHERE TABLE_SCHEMA = 'users_registrados' AND TABLE_NAME = 'Users';\n",
    "        \"\"\"\n",
    "        \n",
    "        # Ejecutar la consulta\n",
    "        cursor.execute(query)\n",
    "        columns = cursor.fetchall()\n",
    "\n",
    "        # Extraer solo los nombres de columna\n",
    "        column_names = [col[\"COLUMN_NAME\"] for col in columns]\n",
    "        print(\"Columnas en la tabla vertical:\", column_names)\n",
    "\n",
    "except pymysql.MySQLError as err:\n",
    "    print(f\"Error al consultar las columnas: {err}\")"
   ]
  },
  {
   "cell_type": "code",
   "execution_count": 89,
   "metadata": {},
   "outputs": [],
   "source": [
    "cursor.execute('''SELECT * FROM Users''')\n",
    "usuarios = cursor.fetchall()"
   ]
  },
  {
   "cell_type": "code",
   "execution_count": 82,
   "metadata": {},
   "outputs": [],
   "source": [
    "query = \"\"\"\n",
    "    INSERT INTO Users (ID_Vertical, Nombre, Apellidos, Fecha_nacimiento, nombre_usuario, password)\n",
    "    VALUES (%s, %s, %s, %s, %s, %s)\n",
    "    \"\"\"\n",
    "\n",
    "    # Lista de valores en el orden de las columnas\n",
    "valores = [\n",
    "    (1, \"Vanessa\", \"Lopez\", \"1988-6-14\", \"vlopez\", \"aliciareliqia\"),\n",
    "    (1, \"Nacho\", \"Miguelsanz\", \"1998-01-28\", \"nmiguelsanz\", \"praga\"),\n",
    "    (1, \"Irene\", \"Arrabe\", \"2000-01-13\", \"iarrabe\", \"bolzano\"),\n",
    "    (1, \"Felix\", \"de Molina\", \"1985-03-12\", \"fdemolina\", \"pelicula\"),\n",
    "    (1, \"Iñigo\", \"Pascual\", \"1989-05-23\", \"ipascual\", \"renfe\"),\n",
    "    (1, \"Alejandro\", \"Reyes\", \"1992-05-23\", \"areyes\", \"docker\")\n",
    "\n",
    "]"
   ]
  },
  {
   "cell_type": "code",
   "execution_count": 83,
   "metadata": {},
   "outputs": [
    {
     "data": {
      "text/plain": [
       "6"
      ]
     },
     "execution_count": 83,
     "metadata": {},
     "output_type": "execute_result"
    }
   ],
   "source": [
    "cursor.executemany(query, valores)"
   ]
  },
  {
   "cell_type": "code",
   "execution_count": 30,
   "metadata": {},
   "outputs": [
    {
     "data": {
      "text/plain": [
       "6"
      ]
     },
     "execution_count": 30,
     "metadata": {},
     "output_type": "execute_result"
    }
   ],
   "source": [
    "cursor.execute(\"\"\"SHOW TABLES\"\"\")"
   ]
  },
  {
   "cell_type": "code",
   "execution_count": 48,
   "metadata": {},
   "outputs": [],
   "source": [
    "query = \"INSERT INTO Verticales (vertical) VALUES (%s)\"\n",
    "valores = [(\"Data Science\",), (\"Full Stack\",), (\"Ciberseguridad\",)]"
   ]
  },
  {
   "cell_type": "code",
   "execution_count": 54,
   "metadata": {},
   "outputs": [
    {
     "data": {
      "text/plain": [
       "3"
      ]
     },
     "execution_count": 54,
     "metadata": {},
     "output_type": "execute_result"
    }
   ],
   "source": [
    "cursor.executemany(query, valores)"
   ]
  },
  {
   "cell_type": "code",
   "execution_count": 84,
   "metadata": {},
   "outputs": [],
   "source": [
    "db.commit()"
   ]
  },
  {
   "cell_type": "code",
   "execution_count": null,
   "metadata": {},
   "outputs": [],
   "source": []
  },
  {
   "cell_type": "code",
   "execution_count": null,
   "metadata": {},
   "outputs": [],
   "source": []
  },
  {
   "cell_type": "code",
   "execution_count": null,
   "metadata": {},
   "outputs": [],
   "source": []
  },
  {
   "cell_type": "code",
   "execution_count": null,
   "metadata": {},
   "outputs": [],
   "source": []
  },
  {
   "cell_type": "code",
   "execution_count": null,
   "metadata": {},
   "outputs": [],
   "source": []
  },
  {
   "cell_type": "code",
   "execution_count": null,
   "metadata": {},
   "outputs": [],
   "source": []
  },
  {
   "cell_type": "code",
   "execution_count": 117,
   "metadata": {},
   "outputs": [],
   "source": [
    "db.commit()"
   ]
  },
  {
   "cell_type": "code",
   "execution_count": 25,
   "metadata": {},
   "outputs": [],
   "source": [
    "cursor.close()"
   ]
  },
  {
   "cell_type": "code",
   "execution_count": 24,
   "metadata": {},
   "outputs": [
    {
     "ename": "Error",
     "evalue": "Already closed",
     "output_type": "error",
     "traceback": [
      "\u001b[0;31m---------------------------------------------------------------------------\u001b[0m",
      "\u001b[0;31mError\u001b[0m                                     Traceback (most recent call last)",
      "Cell \u001b[0;32mIn[24], line 1\u001b[0m\n\u001b[0;32m----> 1\u001b[0m \u001b[43mdb\u001b[49m\u001b[38;5;241;43m.\u001b[39;49m\u001b[43mclose\u001b[49m\u001b[43m(\u001b[49m\u001b[43m)\u001b[49m\n",
      "File \u001b[0;32m~/tf_env/lib/python3.12/site-packages/pymysql/connections.py:414\u001b[0m, in \u001b[0;36mConnection.close\u001b[0;34m(self)\u001b[0m\n\u001b[1;32m    405\u001b[0m \u001b[38;5;250m\u001b[39m\u001b[38;5;124;03m\"\"\"\u001b[39;00m\n\u001b[1;32m    406\u001b[0m \u001b[38;5;124;03mSend the quit message and close the socket.\u001b[39;00m\n\u001b[1;32m    407\u001b[0m \n\u001b[0;32m   (...)\u001b[0m\n\u001b[1;32m    411\u001b[0m \u001b[38;5;124;03m:raise Error: If the connection is already closed.\u001b[39;00m\n\u001b[1;32m    412\u001b[0m \u001b[38;5;124;03m\"\"\"\u001b[39;00m\n\u001b[1;32m    413\u001b[0m \u001b[38;5;28;01mif\u001b[39;00m \u001b[38;5;28mself\u001b[39m\u001b[38;5;241m.\u001b[39m_closed:\n\u001b[0;32m--> 414\u001b[0m     \u001b[38;5;28;01mraise\u001b[39;00m err\u001b[38;5;241m.\u001b[39mError(\u001b[38;5;124m\"\u001b[39m\u001b[38;5;124mAlready closed\u001b[39m\u001b[38;5;124m\"\u001b[39m)\n\u001b[1;32m    415\u001b[0m \u001b[38;5;28mself\u001b[39m\u001b[38;5;241m.\u001b[39m_closed \u001b[38;5;241m=\u001b[39m \u001b[38;5;28;01mTrue\u001b[39;00m\n\u001b[1;32m    416\u001b[0m \u001b[38;5;28;01mif\u001b[39;00m \u001b[38;5;28mself\u001b[39m\u001b[38;5;241m.\u001b[39m_sock \u001b[38;5;129;01mis\u001b[39;00m \u001b[38;5;28;01mNone\u001b[39;00m:\n",
      "\u001b[0;31mError\u001b[0m: Already closed"
     ]
    }
   ],
   "source": [
    "db.close()"
   ]
  }
 ],
 "metadata": {
  "kernelspec": {
   "display_name": "tf_env",
   "language": "python",
   "name": "python3"
  },
  "language_info": {
   "codemirror_mode": {
    "name": "ipython",
    "version": 3
   },
   "file_extension": ".py",
   "mimetype": "text/x-python",
   "name": "python",
   "nbconvert_exporter": "python",
   "pygments_lexer": "ipython3",
   "version": "3.12.8"
  }
 },
 "nbformat": 4,
 "nbformat_minor": 2
}
