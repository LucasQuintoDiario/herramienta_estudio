{
 "cells": [
  {
   "cell_type": "markdown",
   "metadata": {},
   "source": [
    "### Nombre de la branches"
   ]
  },
  {
   "cell_type": "markdown",
   "metadata": {},
   "source": [
    "  - main (NO USAR)\n",
    "  - borja\n",
    "  - dani_g\n",
    "  - dani_m\n",
    "  - juan\n",
    "  - lucas\n",
    "  - yanelis"
   ]
  },
  {
   "cell_type": "markdown",
   "metadata": {},
   "source": [
    "Antes  de trabajar nada cambiar a tu branch personal para ello en la terminal en la carpeta donde tengas clonado el repo:"
   ]
  },
  {
   "cell_type": "markdown",
   "metadata": {},
   "source": [
    "```bash\n",
    "git checkout nombre_de_tu_branch\n",
    "```"
   ]
  },
  {
   "cell_type": "markdown",
   "metadata": {},
   "source": [
    "Dentro de tu rama, puedes hacer cambios y confirmarlos con:"
   ]
  },
  {
   "cell_type": "markdown",
   "metadata": {},
   "source": [
    "```bash\n",
    "git add .\n",
    "git commit -m \"Descripción del cambio\"\n",
    "git push origin nombre-de-la-rama\n",
    "```"
   ]
  },
  {
   "cell_type": "markdown",
   "metadata": {},
   "source": [
    "Una vez subidos a tu rama tienes que hacer un pull request desde GitHub:"
   ]
  },
  {
   "cell_type": "markdown",
   "metadata": {},
   "source": [
    "- Ve al repositorio en GitHub.\n",
    "- Haz clic en \"Pull Requests\".\n",
    "- Pulsa en \"New Pull Request\".\n",
    "- Selecciona tu rama en \"compare\" y main en \"base\".\n",
    "- Escribe una descripción de los cambios y presiona \"Create Pull Request\".\n",
    "- Espera la revisión y aprobación."
   ]
  }
 ],
 "metadata": {
  "kernelspec": {
   "display_name": "Python (tf_env)",
   "language": "python",
   "name": "tf_env"
  },
  "language_info": {
   "name": "python",
   "version": "3.12.8"
  }
 },
 "nbformat": 4,
 "nbformat_minor": 2
}
