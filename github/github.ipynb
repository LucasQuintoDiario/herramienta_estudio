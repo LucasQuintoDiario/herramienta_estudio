{
 "cells": [
  {
   "cell_type": "markdown",
   "metadata": {},
   "source": [
    "Branch de cada uno en el repositorio:\n",
    "  - borja\n",
    "  - dani_g\n",
    "  - dani_m\n",
    "  - juan\n",
    "  - lucas\n",
    "  - main\n",
    "  - yanelis"
   ]
  },
  {
   "cell_type": "markdown",
   "metadata": {},
   "source": [
    "Antes de empezar a trabajar que cada uno se vaya a su rama con el siguiente comando en la terminal ubicada donde hayas clonado el repo:\n",
    "\n",
    "```bash\n",
    "git checkout nombre-de-tu-rama\n",
    "```"
   ]
  },
  {
   "cell_type": "markdown",
   "metadata": {},
   "source": [
    "Para hacer el push desde tu rama:"
   ]
  },
  {
   "cell_type": "markdown",
   "metadata": {},
   "source": [
    "```bash\n",
    "git add .\n",
    "git commit -m \"Descripción del cambio\"\n",
    "git push origin nombre-de-la-rama\n",
    "```"
   ]
  },
  {
   "cell_type": "markdown",
   "metadata": {},
   "source": [
    "Para poder fusionar  los cambios con la rama de main:\n",
    "- Ve al repositorio en GitHub.\n",
    "- Haz clic en \"Pull Requests\".\n",
    "- Pulsa en \"New Pull Request\".\n",
    "- Selecciona tu rama en \"compare\" y main en \"base\".\n",
    "- Escribe una descripción de los cambios y presiona \"Create Pull Request\".\n",
    "- Espera la revisión y aprobación.\n"
   ]
  }
 ],
 "metadata": {
  "language_info": {
   "name": "python"
  }
 },
 "nbformat": 4,
 "nbformat_minor": 2
}
