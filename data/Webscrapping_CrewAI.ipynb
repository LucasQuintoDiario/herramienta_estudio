{
 "cells": [
  {
   "cell_type": "markdown",
   "metadata": {},
   "source": [
    "WEBSCRAPPING AI"
   ]
  },
  {
   "cell_type": "code",
   "execution_count": null,
   "metadata": {},
   "outputs": [],
   "source": [
    "import os\n",
    "from crewai import Agent, Task, Crew, Process\n",
    "from crewai_tools import SerperDevTool\n",
    "from dotenv import load_dotenv\n",
    "from typing import Callable"
   ]
  },
  {
   "cell_type": "markdown",
   "metadata": {},
   "source": [
    "Definir agente y su tarea:"
   ]
  },
  {
   "cell_type": "code",
   "execution_count": null,
   "metadata": {},
   "outputs": [],
   "source": [
    "# Cargar variables de entorno\n",
    "load_dotenv()\n",
    "\n",
    "# Configurar herramienta de búsqueda\n",
    "search_tool = SerperDevTool()"
   ]
  },
  {
   "cell_type": "code",
   "execution_count": null,
   "metadata": {},
   "outputs": [],
   "source": [
    "researcher = Agent(\n",
    "    role='Escraper especializado en extraer información estructurada de academias de formación, con enfoque en bootcamps, precios, duración y modalidades.',\n",
    "    goal=f'Obtener y estructurar información relevante sobre los bootcamps ofrecidos por The Bridge, incluyendo nombres de los programas, duración, modalidad (presencial/online), requisitos y cualquier dato útil para comparar opciones',\n",
    "    backstory=f\"\"\"Fuiste creado para explorar el vasto mundo de la educación tecnológica, recolectando y \n",
    "    organizando datos de bootcamps para facilitar la toma de decisiones de futuros estudiantes. \n",
    "    Tu precisión y capacidad de estructuración hacen que la información sea fácil de analizar y comparar. \n",
    "    Eres meticuloso, sigues buenas prácticas de scraping y evitas sobrecargar servidores innecesariamente.\"\"\",\n",
    "    verbose=True,\n",
    "    allow_delegation=False,\n",
    "    tools=[search_tool]\n",
    ")\n",
    "\n",
    "task = Task(\n",
    "    description=f\"\"\"Acceder a The Bridge y analizar su estructura HTML. Identificar las secciones clave donde se encuentran los datos de los bootcamps. Extraer información relevante:\n",
    "Nombres de los bootcamps.\n",
    "Duración.\n",
    "Modalidad (presencial/online).\n",
    "Requisitos.\n",
    "Precio (si está disponible).\n",
    "Posibles ayudas o financiación.\n",
    "Limpiar y estructurar los datos en un formato útil (JSON, CSV, etc.).\n",
    "Asegurar que el scraping cumple con las normativas del sitio (robots.txt, headers adecuados).\n",
    "Retornar la información de manera organizada para su análisis posterior.\"\"\",\n",
    "    expected_output=\"Toda la información realcionada con los bootcamps de The Bridge en un formato estructurado.\",\n",
    "    agent=researcher\n",
    ")"
   ]
  },
  {
   "cell_type": "code",
   "execution_count": null,
   "metadata": {},
   "outputs": [],
   "source": [
    "    #Aquí llamas a los agentes y asignas las tareas:\n",
    "    crew = Crew(\n",
    "        agents=researcher,\n",
    "        tasks=task,\n",
    "        verbose=True,\n",
    "        process=Process.sequential\n",
    "    )"
   ]
  },
  {
   "cell_type": "code",
   "execution_count": null,
   "metadata": {},
   "outputs": [],
   "source": [
    "    result = crew.kickoff()\n"
   ]
  }
 ],
 "metadata": {
  "kernelspec": {
   "display_name": "Python 3",
   "language": "python",
   "name": "python3"
  },
  "language_info": {
   "name": "python",
   "version": "3.11.0"
  }
 },
 "nbformat": 4,
 "nbformat_minor": 2
}
